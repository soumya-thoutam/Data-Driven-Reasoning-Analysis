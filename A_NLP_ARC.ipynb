{
  "nbformat": 4,
  "nbformat_minor": 0,
  "metadata": {
    "colab": {
      "provenance": [],
      "authorship_tag": "ABX9TyM/S2GrP73zpfYPdANpUkDJ",
      "include_colab_link": true
    },
    "kernelspec": {
      "name": "python3",
      "display_name": "Python 3"
    },
    "language_info": {
      "name": "python"
    }
  },
  "cells": [
    {
      "cell_type": "markdown",
      "metadata": {
        "id": "view-in-github",
        "colab_type": "text"
      },
      "source": [
        "<a href=\"https://colab.research.google.com/github/AchyuthaPDX/Adventure-in-NLP-project/blob/main/A_NLP_ARC.ipynb\" target=\"_parent\"><img src=\"https://colab.research.google.com/assets/colab-badge.svg\" alt=\"Open In Colab\"/></a>"
      ]
    },
    {
      "cell_type": "code",
      "execution_count": null,
      "metadata": {
        "id": "gz0kY9evN4LT"
      },
      "outputs": [],
      "source": [
        "import numpy as np \n",
        "import pandas as pd\n",
        "import matplotlib.pyplot as plt\n",
        "%matplotlib inline\n",
        "\n",
        "import seaborn as sns\n",
        "import warnings\n",
        "warnings.filterwarnings('ignore')"
      ]
    },
    {
      "cell_type": "code",
      "source": [
        "from google.colab import drive\n",
        "drive.mount('/content/drive')"
      ],
      "metadata": {
        "colab": {
          "base_uri": "https://localhost:8080/"
        },
        "id": "ijrYsmJIOFrP",
        "outputId": "00fefd42-b8bc-428d-a7a9-3602cd351164"
      },
      "execution_count": null,
      "outputs": [
        {
          "output_type": "stream",
          "name": "stdout",
          "text": [
            "Mounted at /content/drive\n"
          ]
        }
      ]
    },
    {
      "cell_type": "code",
      "source": [
        "df_easy_train = pd.read_csv('/content/drive/My Drive/ARC/ARC-Easy-Train.csv')\n",
        "df_easy_dev = pd.read_csv('/content/drive/My Drive/ARC/ARC-Easy-Dev.csv')\n",
        "df_easy_test = pd.read_csv('/content/drive/My Drive/ARC/ARC-Easy-Test.csv')"
      ],
      "metadata": {
        "id": "SiQGvbnQOQJc"
      },
      "execution_count": null,
      "outputs": []
    },
    {
      "cell_type": "code",
      "source": [
        "df_challenge_train = pd.read_csv('/content/drive/My Drive/ARC/ARC-Challenge-Train.csv')\n",
        "df_challenge_dev = pd.read_csv('/content/drive/My Drive/ARC/ARC-Challenge-Dev.csv')\n",
        "df_challenge_test = pd.read_csv('/content/drive/My Drive/ARC/ARC-Challenge-Test.csv')"
      ],
      "metadata": {
        "id": "TAIxJRGDPB0j"
      },
      "execution_count": null,
      "outputs": []
    },
    {
      "cell_type": "code",
      "source": [
        "print(f'Shape of train easy dataset is {df_easy_train.shape}')\n",
        "print(f'Shape of dev easy dataset is {df_easy_dev.shape}')\n",
        "print(f'Shape of test easy dataset is {df_easy_test.shape}')"
      ],
      "metadata": {
        "colab": {
          "base_uri": "https://localhost:8080/"
        },
        "id": "uin1ziHiPK_z",
        "outputId": "b146f2a0-e4d3-4b81-cf39-a4a2be36f75e"
      },
      "execution_count": null,
      "outputs": [
        {
          "output_type": "stream",
          "name": "stdout",
          "text": [
            "Shape of train easy dataset is (2251, 12)\n",
            "Shape of dev easy dataset is (570, 12)\n",
            "Shape of test easy dataset is (2376, 12)\n"
          ]
        }
      ]
    },
    {
      "cell_type": "code",
      "source": [
        "print(f'Shape of train challenge dataset is {df_challenge_train.shape}')\n",
        "print(f'Shape of dev challenge dataset is {df_challenge_dev.shape}')\n",
        "print(f'Shape of test challenge dataset is {df_challenge_test.shape}')"
      ],
      "metadata": {
        "colab": {
          "base_uri": "https://localhost:8080/"
        },
        "id": "Wj2daffLPMlp",
        "outputId": "bb7d5913-7255-48e0-b637-666c6217a97c"
      },
      "execution_count": null,
      "outputs": [
        {
          "output_type": "stream",
          "name": "stdout",
          "text": [
            "Shape of train challenge dataset is (1119, 12)\n",
            "Shape of dev challenge dataset is (299, 12)\n",
            "Shape of test challenge dataset is (1172, 12)\n"
          ]
        }
      ]
    },
    {
      "cell_type": "code",
      "source": [
        "df_easy_train.info()"
      ],
      "metadata": {
        "colab": {
          "base_uri": "https://localhost:8080/"
        },
        "id": "2iNYXwiwPPhZ",
        "outputId": "6ba1eaf6-57e6-470f-f4f5-7dacc634b108"
      },
      "execution_count": null,
      "outputs": [
        {
          "output_type": "stream",
          "name": "stdout",
          "text": [
            "<class 'pandas.core.frame.DataFrame'>\n",
            "RangeIndex: 2251 entries, 0 to 2250\n",
            "Data columns (total 12 columns):\n",
            " #   Column                    Non-Null Count  Dtype  \n",
            "---  ------                    --------------  -----  \n",
            " 0   questionID                2251 non-null   object \n",
            " 1   originalQuestionID        2251 non-null   object \n",
            " 2   totalPossiblePoint        2251 non-null   int64  \n",
            " 3   AnswerKey                 2251 non-null   object \n",
            " 4   isMultipleChoiceQuestion  2251 non-null   int64  \n",
            " 5   includesDiagram           2251 non-null   int64  \n",
            " 6   examName                  2251 non-null   object \n",
            " 7   schoolGrade               2251 non-null   int64  \n",
            " 8   year                      2251 non-null   object \n",
            " 9   question                  2251 non-null   object \n",
            " 10  subject                   0 non-null      float64\n",
            " 11  category                  2251 non-null   object \n",
            "dtypes: float64(1), int64(4), object(7)\n",
            "memory usage: 211.2+ KB\n"
          ]
        }
      ]
    },
    {
      "cell_type": "code",
      "source": [
        "df_easy_train.head(5)"
      ],
      "metadata": {
        "colab": {
          "base_uri": "https://localhost:8080/",
          "height": 583
        },
        "id": "Du9cr23qPS9T",
        "outputId": "4728fbbb-af0f-429e-d02a-5ce4b47396bb"
      },
      "execution_count": null,
      "outputs": [
        {
          "output_type": "execute_result",
          "data": {
            "text/plain": [
              "               questionID originalQuestionID  totalPossiblePoint AnswerKey  \\\n",
              "0         Mercury_7220990            7220990                   1         B   \n",
              "1        MCAS_2007_8_5189               5189                   1         B   \n",
              "2       Mercury_SC_401169             401169                   1         D   \n",
              "3          MCAS_2004_8_27                 27                   1         A   \n",
              "4  NYSEDREGENTS_2006_8_10                 10                   1         3   \n",
              "\n",
              "   isMultipleChoiceQuestion  includesDiagram      examName  schoolGrade  year  \\\n",
              "0                         1                0       Mercury            8  2015   \n",
              "1                         1                0          MCAS            8  2007   \n",
              "2                         1                0       Mercury            5  2015   \n",
              "3                         1                0          MCAS            8  2004   \n",
              "4                         1                0  NYSEDREGENTS            8  2006   \n",
              "\n",
              "                                            question  subject category  \n",
              "0  Which factor will most likely cause a person t...      NaN    Train  \n",
              "1  Lichens are symbiotic organisms made of green ...      NaN    Train  \n",
              "2  When a switch is used in an electrical circuit...      NaN    Train  \n",
              "3  Which of the following is an example of an ass...      NaN    Train  \n",
              "4  Rocks are classified as igneous, metamorphic, ...      NaN    Train  "
            ],
            "text/html": [
              "\n",
              "  <div id=\"df-ec5dc419-de1f-488b-a89a-1ff48d0f7d40\">\n",
              "    <div class=\"colab-df-container\">\n",
              "      <div>\n",
              "<style scoped>\n",
              "    .dataframe tbody tr th:only-of-type {\n",
              "        vertical-align: middle;\n",
              "    }\n",
              "\n",
              "    .dataframe tbody tr th {\n",
              "        vertical-align: top;\n",
              "    }\n",
              "\n",
              "    .dataframe thead th {\n",
              "        text-align: right;\n",
              "    }\n",
              "</style>\n",
              "<table border=\"1\" class=\"dataframe\">\n",
              "  <thead>\n",
              "    <tr style=\"text-align: right;\">\n",
              "      <th></th>\n",
              "      <th>questionID</th>\n",
              "      <th>originalQuestionID</th>\n",
              "      <th>totalPossiblePoint</th>\n",
              "      <th>AnswerKey</th>\n",
              "      <th>isMultipleChoiceQuestion</th>\n",
              "      <th>includesDiagram</th>\n",
              "      <th>examName</th>\n",
              "      <th>schoolGrade</th>\n",
              "      <th>year</th>\n",
              "      <th>question</th>\n",
              "      <th>subject</th>\n",
              "      <th>category</th>\n",
              "    </tr>\n",
              "  </thead>\n",
              "  <tbody>\n",
              "    <tr>\n",
              "      <th>0</th>\n",
              "      <td>Mercury_7220990</td>\n",
              "      <td>7220990</td>\n",
              "      <td>1</td>\n",
              "      <td>B</td>\n",
              "      <td>1</td>\n",
              "      <td>0</td>\n",
              "      <td>Mercury</td>\n",
              "      <td>8</td>\n",
              "      <td>2015</td>\n",
              "      <td>Which factor will most likely cause a person t...</td>\n",
              "      <td>NaN</td>\n",
              "      <td>Train</td>\n",
              "    </tr>\n",
              "    <tr>\n",
              "      <th>1</th>\n",
              "      <td>MCAS_2007_8_5189</td>\n",
              "      <td>5189</td>\n",
              "      <td>1</td>\n",
              "      <td>B</td>\n",
              "      <td>1</td>\n",
              "      <td>0</td>\n",
              "      <td>MCAS</td>\n",
              "      <td>8</td>\n",
              "      <td>2007</td>\n",
              "      <td>Lichens are symbiotic organisms made of green ...</td>\n",
              "      <td>NaN</td>\n",
              "      <td>Train</td>\n",
              "    </tr>\n",
              "    <tr>\n",
              "      <th>2</th>\n",
              "      <td>Mercury_SC_401169</td>\n",
              "      <td>401169</td>\n",
              "      <td>1</td>\n",
              "      <td>D</td>\n",
              "      <td>1</td>\n",
              "      <td>0</td>\n",
              "      <td>Mercury</td>\n",
              "      <td>5</td>\n",
              "      <td>2015</td>\n",
              "      <td>When a switch is used in an electrical circuit...</td>\n",
              "      <td>NaN</td>\n",
              "      <td>Train</td>\n",
              "    </tr>\n",
              "    <tr>\n",
              "      <th>3</th>\n",
              "      <td>MCAS_2004_8_27</td>\n",
              "      <td>27</td>\n",
              "      <td>1</td>\n",
              "      <td>A</td>\n",
              "      <td>1</td>\n",
              "      <td>0</td>\n",
              "      <td>MCAS</td>\n",
              "      <td>8</td>\n",
              "      <td>2004</td>\n",
              "      <td>Which of the following is an example of an ass...</td>\n",
              "      <td>NaN</td>\n",
              "      <td>Train</td>\n",
              "    </tr>\n",
              "    <tr>\n",
              "      <th>4</th>\n",
              "      <td>NYSEDREGENTS_2006_8_10</td>\n",
              "      <td>10</td>\n",
              "      <td>1</td>\n",
              "      <td>3</td>\n",
              "      <td>1</td>\n",
              "      <td>0</td>\n",
              "      <td>NYSEDREGENTS</td>\n",
              "      <td>8</td>\n",
              "      <td>2006</td>\n",
              "      <td>Rocks are classified as igneous, metamorphic, ...</td>\n",
              "      <td>NaN</td>\n",
              "      <td>Train</td>\n",
              "    </tr>\n",
              "  </tbody>\n",
              "</table>\n",
              "</div>\n",
              "      <button class=\"colab-df-convert\" onclick=\"convertToInteractive('df-ec5dc419-de1f-488b-a89a-1ff48d0f7d40')\"\n",
              "              title=\"Convert this dataframe to an interactive table.\"\n",
              "              style=\"display:none;\">\n",
              "        \n",
              "  <svg xmlns=\"http://www.w3.org/2000/svg\" height=\"24px\"viewBox=\"0 0 24 24\"\n",
              "       width=\"24px\">\n",
              "    <path d=\"M0 0h24v24H0V0z\" fill=\"none\"/>\n",
              "    <path d=\"M18.56 5.44l.94 2.06.94-2.06 2.06-.94-2.06-.94-.94-2.06-.94 2.06-2.06.94zm-11 1L8.5 8.5l.94-2.06 2.06-.94-2.06-.94L8.5 2.5l-.94 2.06-2.06.94zm10 10l.94 2.06.94-2.06 2.06-.94-2.06-.94-.94-2.06-.94 2.06-2.06.94z\"/><path d=\"M17.41 7.96l-1.37-1.37c-.4-.4-.92-.59-1.43-.59-.52 0-1.04.2-1.43.59L10.3 9.45l-7.72 7.72c-.78.78-.78 2.05 0 2.83L4 21.41c.39.39.9.59 1.41.59.51 0 1.02-.2 1.41-.59l7.78-7.78 2.81-2.81c.8-.78.8-2.07 0-2.86zM5.41 20L4 18.59l7.72-7.72 1.47 1.35L5.41 20z\"/>\n",
              "  </svg>\n",
              "      </button>\n",
              "      \n",
              "  <style>\n",
              "    .colab-df-container {\n",
              "      display:flex;\n",
              "      flex-wrap:wrap;\n",
              "      gap: 12px;\n",
              "    }\n",
              "\n",
              "    .colab-df-convert {\n",
              "      background-color: #E8F0FE;\n",
              "      border: none;\n",
              "      border-radius: 50%;\n",
              "      cursor: pointer;\n",
              "      display: none;\n",
              "      fill: #1967D2;\n",
              "      height: 32px;\n",
              "      padding: 0 0 0 0;\n",
              "      width: 32px;\n",
              "    }\n",
              "\n",
              "    .colab-df-convert:hover {\n",
              "      background-color: #E2EBFA;\n",
              "      box-shadow: 0px 1px 2px rgba(60, 64, 67, 0.3), 0px 1px 3px 1px rgba(60, 64, 67, 0.15);\n",
              "      fill: #174EA6;\n",
              "    }\n",
              "\n",
              "    [theme=dark] .colab-df-convert {\n",
              "      background-color: #3B4455;\n",
              "      fill: #D2E3FC;\n",
              "    }\n",
              "\n",
              "    [theme=dark] .colab-df-convert:hover {\n",
              "      background-color: #434B5C;\n",
              "      box-shadow: 0px 1px 3px 1px rgba(0, 0, 0, 0.15);\n",
              "      filter: drop-shadow(0px 1px 2px rgba(0, 0, 0, 0.3));\n",
              "      fill: #FFFFFF;\n",
              "    }\n",
              "  </style>\n",
              "\n",
              "      <script>\n",
              "        const buttonEl =\n",
              "          document.querySelector('#df-ec5dc419-de1f-488b-a89a-1ff48d0f7d40 button.colab-df-convert');\n",
              "        buttonEl.style.display =\n",
              "          google.colab.kernel.accessAllowed ? 'block' : 'none';\n",
              "\n",
              "        async function convertToInteractive(key) {\n",
              "          const element = document.querySelector('#df-ec5dc419-de1f-488b-a89a-1ff48d0f7d40');\n",
              "          const dataTable =\n",
              "            await google.colab.kernel.invokeFunction('convertToInteractive',\n",
              "                                                     [key], {});\n",
              "          if (!dataTable) return;\n",
              "\n",
              "          const docLinkHtml = 'Like what you see? Visit the ' +\n",
              "            '<a target=\"_blank\" href=https://colab.research.google.com/notebooks/data_table.ipynb>data table notebook</a>'\n",
              "            + ' to learn more about interactive tables.';\n",
              "          element.innerHTML = '';\n",
              "          dataTable['output_type'] = 'display_data';\n",
              "          await google.colab.output.renderOutput(dataTable, element);\n",
              "          const docLink = document.createElement('div');\n",
              "          docLink.innerHTML = docLinkHtml;\n",
              "          element.appendChild(docLink);\n",
              "        }\n",
              "      </script>\n",
              "    </div>\n",
              "  </div>\n",
              "  "
            ]
          },
          "metadata": {},
          "execution_count": 9
        }
      ]
    },
    {
      "cell_type": "code",
      "source": [
        "df_easy_train.columns"
      ],
      "metadata": {
        "colab": {
          "base_uri": "https://localhost:8080/"
        },
        "id": "reRlqdw0PbIg",
        "outputId": "10113e04-5aac-4934-8447-a38b26cd8f8e"
      },
      "execution_count": null,
      "outputs": [
        {
          "output_type": "execute_result",
          "data": {
            "text/plain": [
              "Index(['questionID', 'originalQuestionID', 'totalPossiblePoint', 'AnswerKey',\n",
              "       'isMultipleChoiceQuestion', 'includesDiagram', 'examName',\n",
              "       'schoolGrade', 'year', 'question', 'subject', 'category'],\n",
              "      dtype='object')"
            ]
          },
          "metadata": {},
          "execution_count": 10
        }
      ]
    },
    {
      "cell_type": "code",
      "source": [
        "imp_columns = ['AnswerKey','isMultipleChoiceQuestion','includesDiagram','question']\n",
        "\n",
        "df_easy_train = df_easy_train[imp_columns]\n",
        "df_easy_dev = df_easy_dev[imp_columns]\n",
        "df_easy_test = df_easy_test[imp_columns]\n",
        "\n",
        "df_challenge_train = df_challenge_train[imp_columns]\n",
        "df_challenge_dev = df_challenge_dev[imp_columns]\n",
        "df_challenge_test = df_challenge_test[imp_columns]"
      ],
      "metadata": {
        "id": "M6-DRXG-PeSY"
      },
      "execution_count": null,
      "outputs": []
    },
    {
      "cell_type": "code",
      "source": [
        "print(f'Number of unique values in easy train set of this column is {df_easy_train.isMultipleChoiceQuestion.unique()}')\n",
        "print(f'Number of unique values in easy test set of this column is {df_easy_test.isMultipleChoiceQuestion.unique()}')"
      ],
      "metadata": {
        "colab": {
          "base_uri": "https://localhost:8080/"
        },
        "id": "qZQo8VYOPg_f",
        "outputId": "1b8d938e-1425-4268-af06-ceaa441a772e"
      },
      "execution_count": null,
      "outputs": [
        {
          "output_type": "stream",
          "name": "stdout",
          "text": [
            "Number of unique values in easy train set of this column is [1]\n",
            "Number of unique values in easy test set of this column is [1]\n"
          ]
        }
      ]
    },
    {
      "cell_type": "code",
      "source": [
        "print(f'Number of unique values in challenge train set of this column is {df_challenge_train.isMultipleChoiceQuestion.unique()}')\n",
        "print(f'Number of unique values in challenge test set of this column is {df_challenge_test.isMultipleChoiceQuestion.unique()}')"
      ],
      "metadata": {
        "colab": {
          "base_uri": "https://localhost:8080/"
        },
        "id": "MsawNiLIPnCc",
        "outputId": "76f72fe7-7d5e-4f8a-e207-0145cb3a2193"
      },
      "execution_count": null,
      "outputs": [
        {
          "output_type": "stream",
          "name": "stdout",
          "text": [
            "Number of unique values in challenge train set of this column is [1]\n",
            "Number of unique values in challenge test set of this column is [1]\n"
          ]
        }
      ]
    },
    {
      "cell_type": "code",
      "source": [
        "print(f'Number of unique values in easy train set of this column is {df_easy_train.includesDiagram.unique()}')\n",
        "print(f'Number of unique values in easy test set of this column is {df_easy_test.includesDiagram.unique()}')"
      ],
      "metadata": {
        "colab": {
          "base_uri": "https://localhost:8080/"
        },
        "id": "G7K1-ZcwPp5j",
        "outputId": "142234d1-bb40-4b00-8b92-4c4a756e6c1e"
      },
      "execution_count": null,
      "outputs": [
        {
          "output_type": "stream",
          "name": "stdout",
          "text": [
            "Number of unique values in easy train set of this column is [0]\n",
            "Number of unique values in easy test set of this column is [0]\n"
          ]
        }
      ]
    },
    {
      "cell_type": "code",
      "source": [
        "print(f'Number of unique values in challenge train set of this column is {df_challenge_train.includesDiagram.unique()}')\n",
        "print(f'Number of unique values in challenge test set of this column is {df_challenge_test.includesDiagram.unique()}')"
      ],
      "metadata": {
        "colab": {
          "base_uri": "https://localhost:8080/"
        },
        "id": "SiRMZntuPsxB",
        "outputId": "cd2c518d-2de7-4150-fdc7-43c425bf803e"
      },
      "execution_count": null,
      "outputs": [
        {
          "output_type": "stream",
          "name": "stdout",
          "text": [
            "Number of unique values in challenge train set of this column is [0]\n",
            "Number of unique values in challenge test set of this column is [0]\n"
          ]
        }
      ]
    },
    {
      "cell_type": "code",
      "source": [
        "df_easy_train = df_easy_train.drop(['isMultipleChoiceQuestion','includesDiagram'], axis=1)\n",
        "df_easy_dev = df_easy_dev.drop(['isMultipleChoiceQuestion','includesDiagram'], axis=1)\n",
        "df_easy_test = df_easy_test.drop(['isMultipleChoiceQuestion','includesDiagram'], axis=1)\n",
        "\n",
        "df_challenge_train = df_challenge_train.drop(['isMultipleChoiceQuestion','includesDiagram'], axis=1)\n",
        "df_challenge_dev = df_challenge_dev.drop(['isMultipleChoiceQuestion','includesDiagram'], axis=1)\n",
        "df_challenge_test = df_challenge_test.drop(['isMultipleChoiceQuestion','includesDiagram'], axis=1)"
      ],
      "metadata": {
        "id": "J-UhKWBsPvt9"
      },
      "execution_count": null,
      "outputs": []
    },
    {
      "cell_type": "code",
      "source": [
        "df_easy_train.columns"
      ],
      "metadata": {
        "colab": {
          "base_uri": "https://localhost:8080/"
        },
        "id": "dULoJoZoPzC8",
        "outputId": "220fb60d-9266-4f26-bc25-50e0f41be453"
      },
      "execution_count": null,
      "outputs": [
        {
          "output_type": "execute_result",
          "data": {
            "text/plain": [
              "Index(['AnswerKey', 'question'], dtype='object')"
            ]
          },
          "metadata": {},
          "execution_count": 17
        }
      ]
    },
    {
      "cell_type": "code",
      "source": [
        "df_easy_train['question'].iloc[0]"
      ],
      "metadata": {
        "colab": {
          "base_uri": "https://localhost:8080/",
          "height": 71
        },
        "id": "oVNs5xIZP4vh",
        "outputId": "b5239ffe-9beb-427f-e549-02a98e7520b1"
      },
      "execution_count": null,
      "outputs": [
        {
          "output_type": "execute_result",
          "data": {
            "text/plain": [
              "'Which factor will most likely cause a person to develop a fever?  (A) a leg muscle relaxing after exercise (B) a bacterial population in the bloodstream (C) several viral particles on the skin (D) carbohydrates being digested in the stomach'"
            ],
            "application/vnd.google.colaboratory.intrinsic+json": {
              "type": "string"
            }
          },
          "metadata": {},
          "execution_count": 18
        }
      ]
    },
    {
      "cell_type": "code",
      "source": [
        "df_easy_train['question'].iloc[1]"
      ],
      "metadata": {
        "colab": {
          "base_uri": "https://localhost:8080/",
          "height": 53
        },
        "id": "A9vAym5dQHii",
        "outputId": "e772a27f-01c3-4a00-d07a-eb00c8642971"
      },
      "execution_count": null,
      "outputs": [
        {
          "output_type": "execute_result",
          "data": {
            "text/plain": [
              "'Lichens are symbiotic organisms made of green algae and fungi. What do the green algae supply to the fungi in this symbiotic relationship? (A) carbon dioxide (B) food (C) protection (D) water'"
            ],
            "application/vnd.google.colaboratory.intrinsic+json": {
              "type": "string"
            }
          },
          "metadata": {},
          "execution_count": 19
        }
      ]
    },
    {
      "cell_type": "code",
      "source": [
        "df_easy_train['question'].iloc[3]"
      ],
      "metadata": {
        "colab": {
          "base_uri": "https://localhost:8080/",
          "height": 53
        },
        "id": "IQUR--E6QMPC",
        "outputId": "5ed02f26-3796-4b7e-a3c3-edd08663b0f3"
      },
      "execution_count": null,
      "outputs": [
        {
          "output_type": "execute_result",
          "data": {
            "text/plain": [
              "'Which of the following is an example of an assistive device? (A) contact lens (B) motorcycle (C) raincoat (D) coffee pot'"
            ],
            "application/vnd.google.colaboratory.intrinsic+json": {
              "type": "string"
            }
          },
          "metadata": {},
          "execution_count": 20
        }
      ]
    },
    {
      "cell_type": "code",
      "source": [
        "df_easy_train['question'].iloc[2]"
      ],
      "metadata": {
        "colab": {
          "base_uri": "https://localhost:8080/",
          "height": 53
        },
        "id": "z75sbQZvQNwd",
        "outputId": "f9cb8bba-f47a-4f40-e60a-c8f23e384a20"
      },
      "execution_count": null,
      "outputs": [
        {
          "output_type": "execute_result",
          "data": {
            "text/plain": [
              "'When a switch is used in an electrical circuit, the switch can (A) cause the charge to build. (B) increase and decrease the voltage. (C) cause the current to change direction. (D) stop and start the flow of current.'"
            ],
            "application/vnd.google.colaboratory.intrinsic+json": {
              "type": "string"
            }
          },
          "metadata": {},
          "execution_count": 21
        }
      ]
    },
    {
      "cell_type": "code",
      "source": [
        "df_easy_train['question'].iloc[4]"
      ],
      "metadata": {
        "colab": {
          "base_uri": "https://localhost:8080/",
          "height": 53
        },
        "id": "-RQIqqPqQPcj",
        "outputId": "53bb2945-c192-4077-c462-884b084619f3"
      },
      "execution_count": null,
      "outputs": [
        {
          "output_type": "execute_result",
          "data": {
            "text/plain": [
              "'Rocks are classified as igneous, metamorphic, or sedimentary according to (1) their color (2) their shape (3) how they formed (4) the minerals they contain'"
            ],
            "application/vnd.google.colaboratory.intrinsic+json": {
              "type": "string"
            }
          },
          "metadata": {},
          "execution_count": 22
        }
      ]
    },
    {
      "cell_type": "code",
      "source": [
        "a = list(df_easy_train['AnswerKey'].unique())\n",
        "print(f'Unique values in easy train set are {a}')\n",
        "\n",
        "a = list(df_easy_test['AnswerKey'].unique())\n",
        "print(f'Unique values in easy test set are {a}')"
      ],
      "metadata": {
        "colab": {
          "base_uri": "https://localhost:8080/"
        },
        "id": "Elu2XIXyQXm6",
        "outputId": "2c29b8e0-ec83-4212-b938-f36b1b0c568d"
      },
      "execution_count": null,
      "outputs": [
        {
          "output_type": "stream",
          "name": "stdout",
          "text": [
            "Unique values in easy train set are ['B', 'D', 'A', '3', 'C', '1', '2', '4', 'E']\n",
            "Unique values in easy test set are ['A', 'B', 'D', 'C', '2', '4', '3', '1', 'E']\n"
          ]
        }
      ]
    },
    {
      "cell_type": "code",
      "source": [
        "fig, (axis1) = plt.subplots(1,1,figsize=(15,4))\n",
        "\n",
        "plt.title('Easy train set Answer key options.')\n",
        "sns.countplot(x='AnswerKey', data=df_easy_train,palette=\"husl\", ax=axis1)"
      ],
      "metadata": {
        "colab": {
          "base_uri": "https://localhost:8080/",
          "height": 313
        },
        "id": "sOuDise9Qacm",
        "outputId": "77ff43ce-c763-4fa9-db02-44f1be7d3ab5"
      },
      "execution_count": null,
      "outputs": [
        {
          "output_type": "execute_result",
          "data": {
            "text/plain": [
              "<AxesSubplot:title={'center':'Easy train set Answer key options.'}, xlabel='AnswerKey', ylabel='count'>"
            ]
          },
          "metadata": {},
          "execution_count": 24
        },
        {
          "output_type": "display_data",
          "data": {
            "text/plain": [
              "<Figure size 1080x288 with 1 Axes>"
            ],
            "image/png": "[encoded data removed]"
          },
          "metadata": {
            "needs_background": "light"
          }
        }
      ]
    },
    {
      "cell_type": "code",
      "source": [
        "fig, (axis1) = plt.subplots(1,1,figsize=(15,4))\n",
        "\n",
        "plt.title('Easy test set Answer key options.')\n",
        "sns.countplot(x='AnswerKey', data=df_easy_test,palette=\"husl\", ax=axis1)"
      ],
      "metadata": {
        "colab": {
          "base_uri": "https://localhost:8080/",
          "height": 313
        },
        "id": "JmiZoO8JQiCg",
        "outputId": "a68c51e3-ccab-4553-95ff-4a96a1165d19"
      },
      "execution_count": null,
      "outputs": [
        {
          "output_type": "execute_result",
          "data": {
            "text/plain": [
              "<AxesSubplot:title={'center':'Easy test set Answer key options.'}, xlabel='AnswerKey', ylabel='count'>"
            ]
          },
          "metadata": {},
          "execution_count": 25
        },
        {
          "output_type": "display_data",
          "data": {
            "text/plain": [
              "<Figure size 1080x288 with 1 Axes>"
            ],
            "image/png": "[encoded data removed]"
          },
          "metadata": {
            "needs_background": "light"
          }
        }
      ]
    },
    {
      "cell_type": "code",
      "source": [
        "df_easy_train.loc[df_easy_train['AnswerKey']=='E']"
      ],
      "metadata": {
        "colab": {
          "base_uri": "https://localhost:8080/",
          "height": 112
        },
        "id": "aaIH98_CQk_m",
        "outputId": "46cae971-b286-4f31-fb08-f9f105bb36a2"
      },
      "execution_count": null,
      "outputs": [
        {
          "output_type": "execute_result",
          "data": {
            "text/plain": [
              "     AnswerKey                                           question\n",
              "1138         E  A mixture of powdered iron and sulfur is heate...\n",
              "1941         E  Large amounts of metals like iron and aluminum..."
            ],
            "text/html": [
              "\n",
              "  <div id=\"df-0284a025-b7fe-47f1-b06b-b265087387f3\">\n",
              "    <div class=\"colab-df-container\">\n",
              "      <div>\n",
              "<style scoped>\n",
              "    .dataframe tbody tr th:only-of-type {\n",
              "        vertical-align: middle;\n",
              "    }\n",
              "\n",
              "    .dataframe tbody tr th {\n",
              "        vertical-align: top;\n",
              "    }\n",
              "\n",
              "    .dataframe thead th {\n",
              "        text-align: right;\n",
              "    }\n",
              "</style>\n",
              "<table border=\"1\" class=\"dataframe\">\n",
              "  <thead>\n",
              "    <tr style=\"text-align: right;\">\n",
              "      <th></th>\n",
              "      <th>AnswerKey</th>\n",
              "      <th>question</th>\n",
              "    </tr>\n",
              "  </thead>\n",
              "  <tbody>\n",
              "    <tr>\n",
              "      <th>1138</th>\n",
              "      <td>E</td>\n",
              "      <td>A mixture of powdered iron and sulfur is heate...</td>\n",
              "    </tr>\n",
              "    <tr>\n",
              "      <th>1941</th>\n",
              "      <td>E</td>\n",
              "      <td>Large amounts of metals like iron and aluminum...</td>\n",
              "    </tr>\n",
              "  </tbody>\n",
              "</table>\n",
              "</div>\n",
              "      <button class=\"colab-df-convert\" onclick=\"convertToInteractive('df-0284a025-b7fe-47f1-b06b-b265087387f3')\"\n",
              "              title=\"Convert this dataframe to an interactive table.\"\n",
              "              style=\"display:none;\">\n",
              "        \n",
              "  <svg xmlns=\"http://www.w3.org/2000/svg\" height=\"24px\"viewBox=\"0 0 24 24\"\n",
              "       width=\"24px\">\n",
              "    <path d=\"M0 0h24v24H0V0z\" fill=\"none\"/>\n",
              "    <path d=\"M18.56 5.44l.94 2.06.94-2.06 2.06-.94-2.06-.94-.94-2.06-.94 2.06-2.06.94zm-11 1L8.5 8.5l.94-2.06 2.06-.94-2.06-.94L8.5 2.5l-.94 2.06-2.06.94zm10 10l.94 2.06.94-2.06 2.06-.94-2.06-.94-.94-2.06-.94 2.06-2.06.94z\"/><path d=\"M17.41 7.96l-1.37-1.37c-.4-.4-.92-.59-1.43-.59-.52 0-1.04.2-1.43.59L10.3 9.45l-7.72 7.72c-.78.78-.78 2.05 0 2.83L4 21.41c.39.39.9.59 1.41.59.51 0 1.02-.2 1.41-.59l7.78-7.78 2.81-2.81c.8-.78.8-2.07 0-2.86zM5.41 20L4 18.59l7.72-7.72 1.47 1.35L5.41 20z\"/>\n",
              "  </svg>\n",
              "      </button>\n",
              "      \n",
              "  <style>\n",
              "    .colab-df-container {\n",
              "      display:flex;\n",
              "      flex-wrap:wrap;\n",
              "      gap: 12px;\n",
              "    }\n",
              "\n",
              "    .colab-df-convert {\n",
              "      background-color: #E8F0FE;\n",
              "      border: none;\n",
              "      border-radius: 50%;\n",
              "      cursor: pointer;\n",
              "      display: none;\n",
              "      fill: #1967D2;\n",
              "      height: 32px;\n",
              "      padding: 0 0 0 0;\n",
              "      width: 32px;\n",
              "    }\n",
              "\n",
              "    .colab-df-convert:hover {\n",
              "      background-color: #E2EBFA;\n",
              "      box-shadow: 0px 1px 2px rgba(60, 64, 67, 0.3), 0px 1px 3px 1px rgba(60, 64, 67, 0.15);\n",
              "      fill: #174EA6;\n",
              "    }\n",
              "\n",
              "    [theme=dark] .colab-df-convert {\n",
              "      background-color: #3B4455;\n",
              "      fill: #D2E3FC;\n",
              "    }\n",
              "\n",
              "    [theme=dark] .colab-df-convert:hover {\n",
              "      background-color: #434B5C;\n",
              "      box-shadow: 0px 1px 3px 1px rgba(0, 0, 0, 0.15);\n",
              "      filter: drop-shadow(0px 1px 2px rgba(0, 0, 0, 0.3));\n",
              "      fill: #FFFFFF;\n",
              "    }\n",
              "  </style>\n",
              "\n",
              "      <script>\n",
              "        const buttonEl =\n",
              "          document.querySelector('#df-0284a025-b7fe-47f1-b06b-b265087387f3 button.colab-df-convert');\n",
              "        buttonEl.style.display =\n",
              "          google.colab.kernel.accessAllowed ? 'block' : 'none';\n",
              "\n",
              "        async function convertToInteractive(key) {\n",
              "          const element = document.querySelector('#df-0284a025-b7fe-47f1-b06b-b265087387f3');\n",
              "          const dataTable =\n",
              "            await google.colab.kernel.invokeFunction('convertToInteractive',\n",
              "                                                     [key], {});\n",
              "          if (!dataTable) return;\n",
              "\n",
              "          const docLinkHtml = 'Like what you see? Visit the ' +\n",
              "            '<a target=\"_blank\" href=https://colab.research.google.com/notebooks/data_table.ipynb>data table notebook</a>'\n",
              "            + ' to learn more about interactive tables.';\n",
              "          element.innerHTML = '';\n",
              "          dataTable['output_type'] = 'display_data';\n",
              "          await google.colab.output.renderOutput(dataTable, element);\n",
              "          const docLink = document.createElement('div');\n",
              "          docLink.innerHTML = docLinkHtml;\n",
              "          element.appendChild(docLink);\n",
              "        }\n",
              "      </script>\n",
              "    </div>\n",
              "  </div>\n",
              "  "
            ]
          },
          "metadata": {},
          "execution_count": 26
        }
      ]
    },
    {
      "cell_type": "code",
      "source": [
        "df_easy_test.loc[df_easy_test['AnswerKey']=='E']"
      ],
      "metadata": {
        "colab": {
          "base_uri": "https://localhost:8080/",
          "height": 81
        },
        "id": "jAXXE8lZQmcE",
        "outputId": "b3f5db9c-0e23-431b-fe03-f3d95656c45b"
      },
      "execution_count": null,
      "outputs": [
        {
          "output_type": "execute_result",
          "data": {
            "text/plain": [
              "     AnswerKey                                           question\n",
              "1441         E  What happens when an animal hibernates? (A) Th..."
            ],
            "text/html": [
              "\n",
              "  <div id=\"df-99aa1564-fbc1-42a9-88f3-9606fb810844\">\n",
              "    <div class=\"colab-df-container\">\n",
              "      <div>\n",
              "<style scoped>\n",
              "    .dataframe tbody tr th:only-of-type {\n",
              "        vertical-align: middle;\n",
              "    }\n",
              "\n",
              "    .dataframe tbody tr th {\n",
              "        vertical-align: top;\n",
              "    }\n",
              "\n",
              "    .dataframe thead th {\n",
              "        text-align: right;\n",
              "    }\n",
              "</style>\n",
              "<table border=\"1\" class=\"dataframe\">\n",
              "  <thead>\n",
              "    <tr style=\"text-align: right;\">\n",
              "      <th></th>\n",
              "      <th>AnswerKey</th>\n",
              "      <th>question</th>\n",
              "    </tr>\n",
              "  </thead>\n",
              "  <tbody>\n",
              "    <tr>\n",
              "      <th>1441</th>\n",
              "      <td>E</td>\n",
              "      <td>What happens when an animal hibernates? (A) Th...</td>\n",
              "    </tr>\n",
              "  </tbody>\n",
              "</table>\n",
              "</div>\n",
              "      <button class=\"colab-df-convert\" onclick=\"convertToInteractive('df-99aa1564-fbc1-42a9-88f3-9606fb810844')\"\n",
              "              title=\"Convert this dataframe to an interactive table.\"\n",
              "              style=\"display:none;\">\n",
              "        \n",
              "  <svg xmlns=\"http://www.w3.org/2000/svg\" height=\"24px\"viewBox=\"0 0 24 24\"\n",
              "       width=\"24px\">\n",
              "    <path d=\"M0 0h24v24H0V0z\" fill=\"none\"/>\n",
              "    <path d=\"M18.56 5.44l.94 2.06.94-2.06 2.06-.94-2.06-.94-.94-2.06-.94 2.06-2.06.94zm-11 1L8.5 8.5l.94-2.06 2.06-.94-2.06-.94L8.5 2.5l-.94 2.06-2.06.94zm10 10l.94 2.06.94-2.06 2.06-.94-2.06-.94-.94-2.06-.94 2.06-2.06.94z\"/><path d=\"M17.41 7.96l-1.37-1.37c-.4-.4-.92-.59-1.43-.59-.52 0-1.04.2-1.43.59L10.3 9.45l-7.72 7.72c-.78.78-.78 2.05 0 2.83L4 21.41c.39.39.9.59 1.41.59.51 0 1.02-.2 1.41-.59l7.78-7.78 2.81-2.81c.8-.78.8-2.07 0-2.86zM5.41 20L4 18.59l7.72-7.72 1.47 1.35L5.41 20z\"/>\n",
              "  </svg>\n",
              "      </button>\n",
              "      \n",
              "  <style>\n",
              "    .colab-df-container {\n",
              "      display:flex;\n",
              "      flex-wrap:wrap;\n",
              "      gap: 12px;\n",
              "    }\n",
              "\n",
              "    .colab-df-convert {\n",
              "      background-color: #E8F0FE;\n",
              "      border: none;\n",
              "      border-radius: 50%;\n",
              "      cursor: pointer;\n",
              "      display: none;\n",
              "      fill: #1967D2;\n",
              "      height: 32px;\n",
              "      padding: 0 0 0 0;\n",
              "      width: 32px;\n",
              "    }\n",
              "\n",
              "    .colab-df-convert:hover {\n",
              "      background-color: #E2EBFA;\n",
              "      box-shadow: 0px 1px 2px rgba(60, 64, 67, 0.3), 0px 1px 3px 1px rgba(60, 64, 67, 0.15);\n",
              "      fill: #174EA6;\n",
              "    }\n",
              "\n",
              "    [theme=dark] .colab-df-convert {\n",
              "      background-color: #3B4455;\n",
              "      fill: #D2E3FC;\n",
              "    }\n",
              "\n",
              "    [theme=dark] .colab-df-convert:hover {\n",
              "      background-color: #434B5C;\n",
              "      box-shadow: 0px 1px 3px 1px rgba(0, 0, 0, 0.15);\n",
              "      filter: drop-shadow(0px 1px 2px rgba(0, 0, 0, 0.3));\n",
              "      fill: #FFFFFF;\n",
              "    }\n",
              "  </style>\n",
              "\n",
              "      <script>\n",
              "        const buttonEl =\n",
              "          document.querySelector('#df-99aa1564-fbc1-42a9-88f3-9606fb810844 button.colab-df-convert');\n",
              "        buttonEl.style.display =\n",
              "          google.colab.kernel.accessAllowed ? 'block' : 'none';\n",
              "\n",
              "        async function convertToInteractive(key) {\n",
              "          const element = document.querySelector('#df-99aa1564-fbc1-42a9-88f3-9606fb810844');\n",
              "          const dataTable =\n",
              "            await google.colab.kernel.invokeFunction('convertToInteractive',\n",
              "                                                     [key], {});\n",
              "          if (!dataTable) return;\n",
              "\n",
              "          const docLinkHtml = 'Like what you see? Visit the ' +\n",
              "            '<a target=\"_blank\" href=https://colab.research.google.com/notebooks/data_table.ipynb>data table notebook</a>'\n",
              "            + ' to learn more about interactive tables.';\n",
              "          element.innerHTML = '';\n",
              "          dataTable['output_type'] = 'display_data';\n",
              "          await google.colab.output.renderOutput(dataTable, element);\n",
              "          const docLink = document.createElement('div');\n",
              "          docLink.innerHTML = docLinkHtml;\n",
              "          element.appendChild(docLink);\n",
              "        }\n",
              "      </script>\n",
              "    </div>\n",
              "  </div>\n",
              "  "
            ]
          },
          "metadata": {},
          "execution_count": 27
        }
      ]
    },
    {
      "cell_type": "code",
      "source": [
        "a = list(df_challenge_train['AnswerKey'].unique())\n",
        "print(f'Unique values in challenge train set are {a}')\n",
        "\n",
        "a = list(df_challenge_test['AnswerKey'].unique())\n",
        "print(f'Unique values in challenge test set are {a}')"
      ],
      "metadata": {
        "colab": {
          "base_uri": "https://localhost:8080/"
        },
        "id": "7UOG2tDUQplU",
        "outputId": "ba4dc76e-bde0-4cfa-930d-db3f0613ec28"
      },
      "execution_count": null,
      "outputs": [
        {
          "output_type": "stream",
          "name": "stdout",
          "text": [
            "Unique values in challenge train set are ['A', 'B', 'D', 'C', '2', '4', '1', '3']\n",
            "Unique values in challenge test set are ['C', 'B', 'D', 'A', '2', '4', '3', '1']\n"
          ]
        }
      ]
    },
    {
      "cell_type": "code",
      "source": [
        "fig, (axis1) = plt.subplots(1,1,figsize=(15,4))\n",
        "\n",
        "plt.title('Challenge train set Answer key options.')\n",
        "sns.countplot(x='AnswerKey', data=df_challenge_train,palette=\"husl\", ax=axis1)"
      ],
      "metadata": {
        "colab": {
          "base_uri": "https://localhost:8080/",
          "height": 313
        },
        "id": "GZ3hGKa9Q2aJ",
        "outputId": "4387b91e-e801-4959-da7a-1e3198876032"
      },
      "execution_count": null,
      "outputs": [
        {
          "output_type": "execute_result",
          "data": {
            "text/plain": [
              "<AxesSubplot:title={'center':'Challenge train set Answer key options.'}, xlabel='AnswerKey', ylabel='count'>"
            ]
          },
          "metadata": {},
          "execution_count": 29
        },
        {
          "output_type": "display_data",
          "data": {
            "text/plain": [
              "<Figure size 1080x288 with 1 Axes>"
            ],
            "image/png": "[encoded data removed]"
          },
          "metadata": {
            "needs_background": "light"
          }
        }
      ]
    },
    {
      "cell_type": "code",
      "source": [
        "\n",
        "fig, (axis1) = plt.subplots(1,1,figsize=(15,4))\n",
        "\n",
        "plt.title('Challenge test set Answer key options.')\n",
        "sns.countplot(x='AnswerKey', data=df_challenge_test,palette=\"husl\", ax=axis1)"
      ],
      "metadata": {
        "colab": {
          "base_uri": "https://localhost:8080/",
          "height": 313
        },
        "id": "J3YgtGvLQ47Y",
        "outputId": "f647ebb3-4409-45a3-dc7a-4b9f8055f444"
      },
      "execution_count": null,
      "outputs": [
        {
          "output_type": "execute_result",
          "data": {
            "text/plain": [
              "<AxesSubplot:title={'center':'Challenge test set Answer key options.'}, xlabel='AnswerKey', ylabel='count'>"
            ]
          },
          "metadata": {},
          "execution_count": 30
        },
        {
          "output_type": "display_data",
          "data": {
            "text/plain": [
              "<Figure size 1080x288 with 1 Axes>"
            ],
            "image/png": "[encoded data removed]"
          },
          "metadata": {
            "needs_background": "light"
          }
        }
      ]
    },
    {
      "cell_type": "code",
      "source": [
        "file = open('/content/drive/My Drive/ARC/ARC_Corpus.txt','r')"
      ],
      "metadata": {
        "id": "J-p3DkGQQ6e5"
      },
      "execution_count": null,
      "outputs": []
    },
    {
      "cell_type": "code",
      "source": [
        "file.readlines()"
      ],
      "metadata": {
        "colab": {
          "base_uri": "https://localhost:8080/"
        },
        "id": "0WPuJ6CqTGUn",
        "outputId": "e163b32f-e682-4540-e741-8df1f1ae9ada"
      },
      "execution_count": null,
      "outputs": [
        {
          "output_type": "execute_result",
          "data": {
            "text/plain": [
              "['Large international companies are involved in bauxite, iron ore, diamond, and gold mining operations.\\n',\n",
              " 'Paleoceanography, 8(2): 193-208.\\n',\n",
              " 'Of course, for many in the media, “hydrogen sulphide delivery helps prevent disease damage in cells in certain disease models” will always be trumped by “farts cure cancer” when it comes to headlines.\\n',\n",
              " 'The same problems apply with wolf-domestic dog hybrids.\\n',\n",
              " 'taking stock of delightful days\\n',\n",
              " 'The an- tlu-opologist and the ethnologist find in trop- ical America some of the most complicated and interesting problems of research.\\n',\n",
              " 'ORDER ODONATA (Damselflies and Dragonflies) Diagnosis: large, to over three inches long; four wings, transparent and membranous, held vertically (damselflies) or laterally (dragonflies) at rest; chew- ing mouth parts, tooth-like; nymphs aquatic, feeding on mosquito larvae to small fish; adults terrestrial, feeding on other insects (Figure 14.27).\\n',\n",
              " 'until they institute such safeguards and assurances of chaste maidenhood as characterize Hebrew social life?\\n',\n",
              " 'Sex brought the variations that could allow organisms to survive change” (2000, p. 163).\\n',\n",
              " 'Homo erectus had a long tenure; the earliest Homo erectus fossils are dated to roughly 1.8 million years ago, while the youngest fossils assigned to this species date to roughly 300 thousand years ago (ka).\\n',\n",
              " '* -LSB- http://www.t13.org T13.org -RSB- .\\n',\n",
              " \"free stresses the complete absence of external rule and the full right to make all of one's own decisions <you're free to do as you like>.\\n\",\n",
              " 'We have brought together a group of experts from across Canada, the U.S., and Mexico to develop a practical reform agenda.\\n',\n",
              " 'Automatic[ edit ]\\n',\n",
              " 'Maternal and infant health profile — United States/Mexico border region.\\n',\n",
              " 'The kit is already stored in the cockpit and on the aft deck ready to be moved as quickly as possible.\\n',\n",
              " 'Main article: Economy of Nazi Germany\\n',\n",
              " 'They developed tentacles and an opening like a mouth at one end.\\n',\n",
              " 'English: Finless porpoise German ... be linked with reproductive cycles and ... occupy an important place in the daily life of people in ...\\n',\n",
              " 'Tested with DevC++ (so a gcc version around 3.5)\\n',\n",
              " 'Derek Briggs, a paleontologist at Yale, and Peter Van Roy, a paleontologist at Ghent University in Belgium, discovered it in southeastern Morocco and described their findings in the journal Nature.\\n',\n",
              " 'London: Haus, 2003.\\n',\n",
              " \"Soon, if not already, they'll be exposed to nitrites which are also deadly to fish.\\n\",\n",
              " 'He noticed that the feeding does not seem to take place very often, and presumed that the high nutritive value of the material provided makes it unnecessary.\\n',\n",
              " 'Carpenter Ant Adaptations\\n',\n",
              " 'Boys had hormones, girls pretended to like them, for who knows what reason.\\n',\n",
              " 'I cannot thresh upscale you that angulates are togolese with crow-bars.\\n',\n",
              " 'Usually the older siblings are bigger and may peck the younger siblings.\\n',\n",
              " 'source {n} ((computing) source code) SEE: source code\\n',\n",
              " 'Aunt May appeared several times in the course of Spider-Man and His Amazing Friends voiced by June Foray .\\n',\n",
              " 'the conoid enable the parasite to bore its way through the membrane.\\n',\n",
              " 'For some people, reproductive choice means facilitating pregnancy and birth by means of reproductive technologies.\\n',\n",
              " 'Thus their need is not knowledge; rather, they need to use the knowledge they possess.\"\\n',\n",
              " 'Patents from the 1910s show telephone transmitters adapted and placed inside violins and banjos to amplify the sound.\\n',\n",
              " 'Of course, the founding fathers also never dreamed anyone from Texas or California would become president, because those areas were part of Mexico then.\\n',\n",
              " 'A measurement of the sensitivity of demand to changes in price\\n',\n",
              " \"So you will see and learn and know more, certainly by the time we're on the eve of Secret Wars proper.\\n\",\n",
              " 'So, that sums up the two faces of sodium.\\n',\n",
              " 'A parallel meta-analysis ( Balvanera et\\xa0al. 2006 ), which included observational studies and a broader range of experimental designs, confirmed the first result of Cardinale et\\xa0al. (2006a) , that increasing species richness increased average standing stocks and resource use, and that this effect was similar among trophic levels.\\n',\n",
              " 'Examiners also consider the interrelationships with other risk areas such as credit and interest rate.\\n',\n",
              " 'Taurotragus oryx [Eland] (2n = 31♂/32♀)\\n',\n",
              " 'A dance pose of Karsavina and Dolin in the \"Speltre do la Rose,\" produced by Sergo Dlaghllev I 2.\\n',\n",
              " 'Significance of Wetland Habitat for Shorebirds\\n',\n",
              " 'Colloquial language\\n',\n",
              " 'One distinguishing characteristic of this bird is its shrieking call.\\n',\n",
              " 'Read or Share this story: http://ohne.ws/1LzPb0U\\n',\n",
              " 'One might even go so far as to say that Enlightenment philosophers, natural and otherwise, discovered a method of using language that provided a truer representation of reality than had previously been known.\\n',\n",
              " 'Image Credit/Caption: Harvard-Smithsonian, Center for Astrophysics/D.\\n',\n",
              " '\"The only script in the world is right here in my pocket.\"\\n',\n",
              " 'Soybean can only cross with other members of Glycine subgenus Soja.\\n',\n",
              " \"It's never too early to start thinking about college football's National Signing Day, and to get you ready for the upcoming recruiting period, CSTV Recruiting Expert Tom Lemming has released his Top 100 recruits for the Class of 2007.\\n\",\n",
              " 'It was more grey than white.\\n',\n",
              " 'Ammonia concentration and modeled emission rates from a beef cattle feedyard\\n',\n",
              " 'The desirable condition score at farrowing is 3.\\n',\n",
              " \"Everything Wrong With SeaWorld's Claims About Orca Lifespan\\n\",\n",
              " 'They will be his people, and God himself will be with them and be their God.\\n',\n",
              " 'Though I did not always see auras, there were moments when I would see a purple light around a particular musician playing in a band or a soft pink light around an especially sweet, loving person.\\n',\n",
              " 'Schwindt E (2001) Efectos de una especie exótica formadora de arrecifes Ficopomatus enigmaticus en la laguna costera Mar Chiquita.\\n',\n",
              " 'Bowman, Jeffrey C.; Robitaille, Jean-Francois.\\n',\n",
              " 'Pansy was present on 1 September, 1997 aboard the Hogwarts Express when Death Eaters stormed the train in search of Harry Potter.\\n',\n",
              " 'They had one child .\\n',\n",
              " \"According to Dr. Ray A. Neff, Pollack had laced Baker's beer with it over a period of months, and a century or so later minute traces of arsenic showed up in the dead man's hair.\\n\",\n",
              " 'Vulnerability of corals to warming of the Indian seas: a projection for the 21st century.\\n',\n",
              " 'Assessing the health of individual trees is equally important.\\n',\n",
              " 'Rated 5 out of 5\\xa0by akflyfisher1 Perfect for home users I got this in a package deal with chaps and safety glasses making it even a better value.\\n',\n",
              " 'Modern designs use either aluminum or silver.\\n',\n",
              " 'A monkey hit with the poison dart will die instantly.\\n',\n",
              " 'Virtually no rain fell during the period reported on here, although the long rains of 1974 continued until the beginning of October and the vegetation was still comparatively lush in November.\\n',\n",
              " 'There was, however, one dalliance that continues to intrigue the old salts who worked on the 18-berth vessels at Ocean Village Marina.\\n',\n",
              " 'It’s simple: the adversary of your soul can’t touch you when you’re under the covering of God’s house.\\n',\n",
              " 'Our prisons are the fullest in Europe, but it only makes sense to be “tough on crime, tough on the causes of crime” if we know what the causes actually are.\\n',\n",
              " 'Theoretical and Applied Genetics 82:425–429 CrossRef\\n',\n",
              " 'scary object or situation because he has never experienced\\n',\n",
              " 'Most blood flows to organs.\\n',\n",
              " \"In late 1985 , Wendi Richter was defeated by The Fabulous Moolah , losing her WWF Women 's Championship in controversial fashion .\\n\",\n",
              " 'After being eaten by an intermediate host, there are three major routes of development.\\n',\n",
              " 'The following information was supplied relating to ethical approvals (i.e.,\\xa0approving body and any reference numbers):\\n',\n",
              " 'Royal College of Medicine, The Professor ... Baghdad.\\n',\n",
              " 'To be specific _humans and chimps each have some 3 billion base units of DNA in their genomes, differing by only 1.2 %.\\n',\n",
              " '[3] Elliot had a brother Joseph and a younger sister Leah , who also became a singer as a member of the Coyote Sisters .\\n',\n",
              " '* Structural engineering .\\n',\n",
              " 'This unique square pan does it all.\\n',\n",
              " 'Andorra, a tiny landlocked principality in southwestern Europe , is situated in the eastern Pyrenees Mountains, bordered on the north and east by France and on the south and west by Spain .\\n',\n",
              " 'Irwin, Larry L.; Peek, James M. 1983.\\n',\n",
              " 'My tortoise comes out for supervised romps in my kitchen every afternoon where it proceeds to do “laps” for at least an hour.\\n',\n",
              " \"In psychiatric terms, they are ‘traumatized', for life.\\n\",\n",
              " 'It has now become very hot in the planter during the late afternoon as temperatures in the shade climbed into the eighties.\\n',\n",
              " 'Usual weight is six to eight grams (males) or four to an ounce.\\n',\n",
              " 'As a raiding force, the two Cicada pilots managed to penetrate a border defense line, rushed to the rear area, and then made their way to the Kurita command bunker some 58 kilometers behind enemy lines .\\n',\n",
              " 'Acta Geographica Sinica, 50(suppl.)\\n',\n",
              " 'Most penguins has-part backs.\\n',\n",
              " 'Mencken, H.L., 1908, Friedrich Nietzsche, New Brunswick (USA) and London (UK): Transaction Publishers, 1993.\\n',\n",
              " 'In math., the number to be taken from another (which is called the minuend) in the operation of subtraction.\\n',\n",
              " 'On this case and the Blood Accusation generally, sfe Wiight, \"The Jews and the Malicious Charge of Human Sacrifice,\" Nineteenth Century, 1883; Strack, The Jeiv and Human Sacrifice (1909).\\n',\n",
              " 'If the mirror server is disconnected from the witness and also from the principal server, automatic failover is not possible, regardless of the state of the principal server.\\n',\n",
              " 'He demonstrates exterior strength and fortitude and the use of a tough outer shell when needed.\\n',\n",
              " \"First of all it's FISHER not fisher cat.\\n\",\n",
              " \"He was born in 1924 at Villemomble , France and began ballet lessons at the age of nine at the Paris Opera 's School of Dance .\\n\",\n",
              " 'The task to which the gospel calls him is simply to exercise faith, which he is both warranted and obliged to do by God\\x92s command and promise.\\n',\n",
              " '•\\xa0We loved the Moby when our son was younger!\\n',\n",
              " 'Depending on how thick it is, it could be done rather quickly.\\n',\n",
              " 'The fastest of all known flying animals is the peregrine falcon , which when diving travels at 300 kilometres per hour (190\\xa0mph) or faster.\\n',\n",
              " \"The former Hogwarts headmaster and headmistress portraits in the Head's office usually slumber (though often this is a ruse as they pay careful attention to goings-on in the office), but describe themselves as 'duty bound to assist and counsel the current head whenever called upon'.\\n\",\n",
              " '(1)Organisms learn specific responses to specific stimuli\\n',\n",
              " \"Structural colour differs according to the observer's position whereas pigments appear the same regardless of the angle-of-view.\\n\",\n",
              " 'Consequently, the plants, using such inner-plane intelligence as they possessed, sought how this vitally important cross fertilization might be accomplished.\\n',\n",
              " 'Most personal fitness trainers help fitness goals.\\n',\n",
              " 'In a flashback showing how Leonard and Christine first meet in a German nightclub, she is wearing her trademark trousers.\\n',\n",
              " 'How do fungus-like protists reproduce?\\n',\n",
              " 'An additional team based in Nebraska is also on alert and prepared to deploy if requested.\\n',\n",
              " 'Time was, though, when osmium was considerably more sought after.\\n',\n",
              " 'The Portuguese developed trade with African nations, particularly with the Mbundu, whose ruler was called the ngola (from which the name of Angola comes).\\n',\n",
              " 'Waxing and finishing is a commonly used method to increase contrast or conceal minor damages to the exoskeleton.\\n',\n",
              " 'As The Daily Telegraph of London wrote in its obituary of Mr. Sánchez Junco on Friday, “The magazine quickly earned a reputation for paying hefty fees for treacly interviews with the rich, royal or famous; its fixer and star interviewer, the Marquesa de Varela , a Uruguayan socialite, was said to travel the world laden with cash stuffed into designer suitcases to clinch her deals.”\\n',\n",
              " 'A damaged home in Savannah, Ga. is seen Oct. 9, 2016, after a tree split and fell through the roof and front wall early Friday morning as Hurricane Matthew affected the Georgia coast.\\n',\n",
              " 'Video showing cirri of purple acorn barnacles (Balanus amphitrite) feeding on non-visible particles in water\\n',\n",
              " 'Your kit comes with an LM7805 voltage regulator, which will convert the voltage from the 9\\xa0V battery (which decreases slowly as the battery drains) to a fixed 5\\xa0V. Does using the voltage regulator affect the battery life of the circuit?\\n',\n",
              " 'Inverse relationship between R and T, generation time\\n',\n",
              " 'That was Sunday, so Connie double checked with the mfg on Monday that it was okay prego/or TTC so we are good there.\\n',\n",
              " \"This book, and the philosophy that it espoused, became the cornerstone of Crowley's religion, Thelema .\\n\",\n",
              " 'For refractive surfaces, define the surface radius to be the directed distance from a surface to its center of curvature.\\n',\n",
              " 'Classic Alfred Stieglitz photograph, The Steerage shows unique aesthetic of black-and-white photos.\\n',\n",
              " 'After an autopsy, \"Marius\" was dismembered in front of a zoo audience that included children, and fed to the zoo\\'s lions.\\n',\n",
              " 'To add a custom action to the setup project, follow these steps:\\n',\n",
              " 'Have perfect health I— — J Learn how to defend vourxelf.\\n',\n",
              " '[Evolution and adaptive significance of facultative parthenogenesis in termites].\\n',\n",
              " 'Opening of an MPA to fishing: Natural variations in the structure of a coral reef fish assemblage obscure changes due to fishing.\\n',\n",
              " \"* ` Shine On -LRB- Peter Panka 's Jane -RRB- ' -LRB- 2003 -RRB- .\\n\",\n",
              " 'For other uses, see Rose (disambiguation) and Roses (disambiguation) .\\n',\n",
              " 'China is the world_s largest livestock producer and consumer.\\n',\n",
              " 'She did date a lot of men casually, and was always looking for her \"perfect\" \"knight in shining armor\" who\\'d \"save\" her from the lonely life she had, but had only a few serious relationships.\\n',\n",
              " 'They have the ability to see colors that are not visible to us, and they come in different colors depending upon the species.\\n',\n",
              " 'Texas A&M Press, College Station, Texas\\n',\n",
              " \"The Schrödinger equation plays the role in quantum mechanics that Newton's laws and conservation of energy serve in classical mechanics—i.e., it predicts the future behavior of a dynamic system —and is a wave equation that is used to solve for wavefunctions.\\n\",\n",
              " 'The law in its most general terms may be stated as follows: Indo-Germanic tenues become the corresponding aspirate in Low Germanic and remain unchanged in High Germanic; Indo-Germanic media* become the cor- responding tenues in Low Germanic and affricate in High Germanic- Indo-Germanic medice as- pirate become media* in Low Germanic and tenues in High Germanic.\\n',\n",
              " 'Yes, being the bridegroom, you might have a lot on your plate but you need to take the time out to write your speech, and to practice going through it at least once or twice to familiarize yourself with the speech itself.\\n',\n",
              " 'What is false?\\n',\n",
              " 'Some laboratories use different measurements or may test different specimens.\\n',\n",
              " 'The Balearic Islands were home to Myotragus, a goatlike creature with unique rodentlike gnawing teeth.\\n',\n",
              " 'Bowheads have been reported to feed in groups of up to 14 animals in V-shape formation, while groups consisting of two adults and a calf also were seen to persist for at least a few weeks.\\n',\n",
              " 'There are several surgical options which include shock wave lithotripsy, percutaneous nephrolithotomy and ureteroscopy with laser lithotripsy.\\n',\n",
              " '#1795 posted by Basil at 15.08.21, 22:12\\n',\n",
              " 'No injury to the creeping root systems can be expected.\\n',\n",
              " 'We are honored to be part of this great appellation.\\n',\n",
              " '1696 (2016-09-17 03:17:40)\\n',\n",
              " 'If the skinks begin fighting, you should resign yourself to keeping them in separate cages.\\n',\n",
              " 'Acuna-Mesen and Rafael Arturo, 1992.\\n',\n",
              " 'year name -RRB- of the Northern Court during the Nanboku-chō period after Ōan and before Kōryaku .\\n',\n",
              " 'Sad to say, this is not enough information unless the program is short and simple.\\n',\n",
              " 'See X-rays Coolie labor.\\n',\n",
              " 'One of the reasons for using a properly-designed electrical connection to your unit is that a Residual Current Device (RCD) safety device will be wired into the circuit.\\n',\n",
              " \"If you're dieting, now you need to resist a doughnut.\\n\",\n",
              " 'Nature 251:321–324 PubMed\\n',\n",
              " 'Other than these two families, Rapateaceae appear to be sister to remaining Poales in some analyses (e.g. Davis et al. 2004), albeit with little support.\\n',\n",
              " 'Dye-filling assays using the fluorescent dye DiI were performed as described [53] .\\n',\n",
              " 'To give you an idea of size, below is a section of a Triceratops skull around the eye socket.\\n',\n",
              " 'What once was lamb, now is dust.\\n',\n",
              " 'Control: Cut out and burn infected twigs and branches during the dormant season.\\n',\n",
              " 'In addition, Green is the host of Wallbuilders Live Nationally Syndicated Radio Show, has been a guest on the Glenn Beck Show with David Barton and is a former member of the Texas Legislature.\\n',\n",
              " 'Today the idea is resurfacing.\\n',\n",
              " 'Or even better, Catherine being one step crazier (since she has been a murderer longer, starting with her own parents) wants a different ending to the book they had planned and twists the story to the point of killing her partner?\\n',\n",
              " 'We selected 36 species with sequenced genomes to represent the 13 clades, with a minimal completeness of ~96% at the clade Placozoa.\\n',\n",
              " 'Fish feeds prepared with plant (soybean meal) protein typically are low in methionine; therefore, extra methionine must be added to soybean-meal based diets in order to promote optimal growth and health.\\n',\n",
              " 'Also, avoid mixing any of these products together; toxic fumes may result.\\n',\n",
              " 'A species that exhibited no variation at all, and that showed no change over time, not even neutral molecular differences, would be a major puzzler for biology.\\n',\n",
              " 'For example the end of WW2 was recently celebrated on VE Day (7-8 May 1945).\\n',\n",
              " 'If a rocky super-Earth orbits within the habitable zone and contains water, it could theoretically support life.\\n',\n",
              " 'Category : Christianity\\n',\n",
              " 'Attacks have been developed for block ciphers and stream ciphers .\\n',\n",
              " 'The 2016 Dodge Viper ACR is priced from 117,895 - excluding destination and gas guzzler tax.\\n',\n",
              " 'Joey Williamson, ©2012 HGIC, Clemson Extension\\n',\n",
              " 'Teams, stadiums, and events are commonly promoted as economic catalysts.\\n',\n",
              " 'joint evolution of two interacting species, each in response to selection imposed by the other\\n',\n",
              " 'Wallace C, 1992.\\n',\n",
              " 'Thanks to all those who have already entered.\\n',\n",
              " 'classification \\u200e(plural classifications )\\n',\n",
              " 'Male Rhesus Monkeys will try to maximise their success in reproducing.\\n',\n",
              " 'Quite the opposite, says Geoffrey Miller.\\n',\n",
              " 'How Competitive Figure Skating Works\\n',\n",
              " 'Unlike most dry lakes in the Basin and Range Province that have been dry for thousands of years , Owens held water until 1924 .\\n',\n",
              " 'Upon expiration, the domain name may become inactive, though the registrant can still renew it with regular renewal charges.\\n',\n",
              " 'Also on HuffPost Style:\\n',\n",
              " 'The series replaces the Saladoid and Barrancoid in some areas.\\n',\n",
              " 'Most people seem to associate the word \"evolution\" mainly with common descent, the theory that all life arose from one common ancestor.\\n',\n",
              " 'What happens to the salinity?\\n',\n",
              " \"Ind 80:409 D 14 '14 Motion pictures; resolved, That motion pic- ture theaters offer a desirable amusement.\\n\",\n",
              " 'Bull Mar Sci 1994; 53:917–928.\\n',\n",
              " 'As the first three letters in second are common to the name in English, French, German, Italian, &c., and ohm is also common, we venture to suggest \"secohm\" as a provisional name, and our instrument we will therefore call a secohTnmeter.\\n',\n",
              " 'The chassis was carried over from the second generation models, retaining the fully independent suspension (with minor revisions) and the four-wheel disc brake system.\\n',\n",
              " 'the most specific classification of living things\\n',\n",
              " 'At the time of the new moon, the moon rises at about the same time the sun rises, and it sets at about the same time the sun sets.\\n',\n",
              " 'His great-grandfather was the son of Norwegian immigrants.\\n',\n",
              " 'Do crop and livestock species stem from a single domestication event or from multiple independent domestications?\\n',\n",
              " 'However, modern classification systems including Soil Taxonomy have adopted the principle of using decomposition stages to characterize peat materials.\\n',\n",
              " 'VIII, 1N80, pp. 76-114, pi.\\n',\n",
              " 'The theory also introduced the notion of an order parameter to distinguish between ordered phases.\\n',\n",
              " 'Luque, M. H. (1984).\\n',\n",
              " 'But we don’t always know everything animals need for a healthy social life.”\\n',\n",
              " 'Occupying either extreme in environmental salinity, or adapting to both, as well as adapting to prolonged periods of fasting provide an indication of the dynamic scope in osmoregulatory capacity of marine mammals, which has made them an intriguing model for the study of renal function for over a century.\\n',\n",
              " 'Reprinted in J. A. Fodor, 1981, Representations: Philosophical Essays on the Foundations of Cognitive Science, Cambridge, MA: MIT Press, pp. 225–53.\\n',\n",
              " 'Hairy Asian with big natural tits masturbating 9:39\\n',\n",
              " 'I found its binding fold in one corner of a quaternary structure to be very satisfying.\\n',\n",
              " 'To test this assertion, Harris (2011) asked 853 North American adults to evaluate the facial attractiveness of photographed individuals.\\n',\n",
              " \"However, nucleoli are located in the organelle that also houses the structures that bear most of an organism's DNA.\\n\",\n",
              " 'The elephants (Elephantidae) are the largest living land mammals on earth and we have gathered interesting elephants facts for kids.\\n',\n",
              " \"After sending memories into the Howler's Collective Memory the Howlers became aware of the severity of their actions and have since become far more peaceful.\\n\",\n",
              " 'After Charles G. Dawes declined the Treasury position, Harding asked Pittsburgh banker Andrew W. Mellon , one of the richest men in the country; he agreed.\\n',\n",
              " '... It is creedless . . . Asks no one what he believes, . . . but aims to teach the physical, moral, and spiritual laws of the universe, and exhort obedience to them. . . . Knowledge is the sa- viour of the world.\"\\n',\n",
              " 'The planula larva transforms into a mesusa.\\n',\n",
              " 'The ministry is committed to helping pastors, staffs, and congregations achieve new levels of excellence, effectiveness, and productivity for the kingdom of God.\\n',\n",
              " \"In the first part of the novel, he emulates his father, by being deaf to women's wisdom and women's needs, and casually disrespecting the women he should most respect.\\n\",\n",
              " \"* -LSB- http://www.wamu.org/audio/kn/06/07/k1060714-11063.asx Adrian Fenty radio interview on WAMU 's Kojo Nnamdi Show -RSB- .\\n\",\n",
              " \"That won't bring back the dead, Jim\\n\",\n",
              " 'If all fronds are drying and dying, trim them all to 2 inches.\\n',\n",
              " 'Despite the importance of such fisheries in many developing countries, policies have been slanted against the interests of the small-scale fisherfolk.\\n',\n",
              " 'Reports said the 21 year old ill fated student went to bathroom in the morning and his fellow students broke into when he did not make an exit after a considerable time.\\n',\n",
              " '— John Quincy, 350.\\n',\n",
              " 'They won’t need to be shipped around the country from crop to crop pollinating monocultures (which is very stressful on bees), and they will always have a “natural” food source that will optimize their immune system.\\n',\n",
              " 'New rims often look crude with obvious flaws like gouges, dents and flat areas.\\n',\n",
              " 'Our findings support that rest oration activities and retention of snags in coastal slash pine flatland m ay facilitate the spread of Chinese tallow.\\n',\n",
              " 'I should note that not all sand is created equal – I would avoid any sharp-edged sand that is intended for sandblasting or is a by-product of a mining or industrial operation.\\n',\n",
              " 'Supplied as bare roots.\\n',\n",
              " 'Although some adult trilobites could fit on the head of a pin, others attained a size of almost thirty inches long.\\n',\n",
              " 'Built in Checkpoints of cell reproduction\\n',\n",
              " \"He's like the perfect science fiction reader – somebody who's ready to suspend his disbelief for a moment and consider something out of the ordinary.\\n\",\n",
              " '(7) If the examining physician determines that alternative medical examinations to those required by paragraph (k)(1) of this section will provide at least equal assurance of detecting medical conditions pertinent to the exposure to vinyl chloride, the employer may accept such alternative examinations as meeting the requirements of paragraph (k)(1) of this section, if the employer obtains a statement from the examining physician setting forth the alternative examinations and the rationale for substitution.\\n',\n",
              " 'An old fashioned method of ascertaining sex pre-natally was by counting the foetal pulsations.\\n',\n",
              " 'Ballooning is controlled in the host via the balloon monitor command .\\n',\n",
              " 'Livest Sci (in press)\\n',\n",
              " 'Marine and Freshwater Research 47:9-Jan.\\n',\n",
              " 'Decline of a diverse fish fauna: patterns of imperilment and protection in the southeastern United States.\\n',\n",
              " 'reappearnece of the conditioned response after extincction\\n',\n",
              " 'The perennial wheatgrass seeds germinate more slowly and the seedlings grow more slowly both in length and mass [ 44 ].\\n',\n",
              " 'Does size equal mass?\\n',\n",
              " 'Rosa, Alexandra; Brehem, António\\n',\n",
              " '* 1628 -- John Bunyan , English cleric and writer -LRB- d. 1688 -RRB- .\\n',\n",
              " 'Cubs should be weighed daily, at the same time each time to allow accurate comparison of weight over time.\\n',\n",
              " '_ _ _ _ _ _ _ animals: if an animal is being walked as if brushes against plants _ it will pick up seeds on its coat then as it is running the seeds _ fall off the animals coat.\\n',\n",
              " 'Jesus, people, wake up.\\n',\n",
              " 'Literature have it between 25-38 days.\\n',\n",
              " 'Fresh Coconuts for drinking should be young and green , and when they are , they should still be on the trees .\\n',\n",
              " '3.9 Flyback Converter 574\\n',\n",
              " \"The UCI summary of 'Decisions on Anti-Doping Rule Violations made in 2006' listed Triamcinolone acetonide and a 2-year ban.\\n\",\n",
              " 'Where is everyone?\\n',\n",
              " 'The low-energy electrical field created by the magnetic field causes dilation of the blood vessels (vasodilation) and tissue stimulation.\\n',\n",
              " '(mango) in the tropical rain forests of Southeast Asia, by J.M. Bompard.\\n',\n",
              " 'Bresslau, E., 1905.\\n',\n",
              " \"Mullin-Coston, 21, is the fourth and final person to be convicted in a series of related cases that prosecutors and police describe as among the most bizarre they've seen.\\n\",\n",
              " 'This also is another good reason for using the smaller feeder insects.\\n',\n",
              " 'Bozell , Jeannea [as cited by McPeck, P.].\\n',\n",
              " 'Specifically, bicarbonate concentration and CO2 were 20\\xa0mm and ∼30\\xa0Torr too high, respectively, and pH was ∼0.4 pH units too acidic (Maren & Vogh, 1980 ).\\n',\n",
              " 'Werner Heisenberg (1901-1976), Guinea-Bissau, 2009, 71 kB\\n',\n",
              " 'Llamas can live in this extreme environment because their blood contains an unusually large amount of hemoglobin, the substance in the blood that carries oxygen from the lungs to the body tissues.\\n',\n",
              " 'There are a number of sources of LCA and embodied carbon data for construction products.\\n',\n",
              " 'Most organisms consume matter.\\n',\n",
              " 'Harry,Gabrielle et leurs troupes sont aux portes de la forteresse de Voldemort.\\n',\n",
              " 'The difficulty of the question may be gauged from the fact that Prof. Dickson gives only three references to other writers.\\n',\n",
              " 'Made in Europe!\\n',\n",
              " 'No one should be obliged to have to deal with someone who is making them uncomfortable in any way other than to have the right to avoid them.\\n',\n",
              " 'Frisch H, Waldhauser F, Waldhör T, Müllner-Eidenböck A, Neupane P, Schweitzer K (2004) Increase in 6-hydroxymelatonin excretion in humans during ascent to high altitudes.\\n',\n",
              " 'He- has not been overlooked by us in any sense of the word.\\n',\n",
              " 'The Sex Goddess was thirty years old and a kindergarten teacher.\\n',\n",
              " 'z) and reproductive A, entire colony magnified showing m (r. i) zt>oids ; ax.\\n',\n",
              " 'B, portion of the wall of a vein.\\n',\n",
              " '$30 million was raised during the live event which was broadcast across the world on various television networks and online.\\n',\n",
              " \"Same as — -'--^■•' syndicate Syndactylus (sin-dak'ti-lus), n. [NL.\\n\",\n",
              " 'Nee, V. to bfar up, to lift up (as a boat by tbe water); to inflate, to pnfF up (as with pride) ; redap.\\n',\n",
              " 'Proc Ent Soc Wash, 69.\\n',\n",
              " 'Originally founded in 1983, the club started with a twin seat open cockpit glider and a small group of enthusiastic members.\\n',\n",
              " 'Everyone else in the ward is a family member desperately trying to look after their child.\\n',\n",
              " 'Merrett, N.R., and Saldanha, L. _Aspects of the morphology and ecology of some Unusual deep sea eels (Synaphobranchidae, Derichthyidae, and Nettastomatidae) From the eastern North Atlantic.\\n',\n",
              " \"When the hunters are within two hundred or three hundred paces of the game the hood is removed from the Cheetah's head and the keepers point the game out to him with expressive gestures.\\n\",\n",
              " 'Tokarski, S. O odmianach tgtnic powierzchownych twarzy u czJowieka i naczel- nych.\\n',\n",
              " 'Please help me for difference and application of these two thermal conductivity method.\\n',\n",
              " 'In size they range from 0.3 mm to over 8 meters .\\n',\n",
              " \"When you think about it, this story is Ryuk's.\\n\",\n",
              " \"Yes, some people who are usually heterosexual do suddenly choose to get involved with their own sex, but that is for totally different reasons {mostly out of curiosity, or to 'make a statement', or some psychological 'fear' of the opposite sex}.\\n\",\n",
              " 'South Korea Annual GDP Growth at Nearly 2-Year High\\n',\n",
              " 'Stockem W, Komnick H (1970) Erfahrungen mit der Styrol-Methacrylat-Einbettung als Routinemethode für die Licht- und Elektronenmikroskopie.\\n',\n",
              " 'In March 1999 Władysław Szpilman visited London for Jewish Book Week, where he met English readers to mark the publication of the book in England.\\n',\n",
              " 'I didn’t know much about him apart from the fact that he had great hair and he was really handsome and he was Mormon.\\n',\n",
              " '[Schultz, \"Dtsch.\\n',\n",
              " '* 1939 - Michael Meacher , British politician .\\n',\n",
              " '[48] The Sierra Nevada range creates the same effect in North America forming the Great Basin and Mojave Deserts .\\n',\n",
              " 'As the longest serving Republican he was President pro tempore of the United States Senate for three occasions -LRB- 1981-1987 , 1995-2001 , and January 2001-June 2001 -RRB- , when Republican gained a majority .\\n',\n",
              " 'Stay consistent with nighttime training pants with absorbency you can rely on to help potty train through the night.\\n',\n",
              " 'The Pacific hagfish, Eptatretus stouti, has been extensively used in physiological studies.\\n',\n",
              " 'In matching animals fed a diet containing 0.12% cholesterol for 30 days, hepatic cholesterol levels increased from 1.9 ± 0.1 to 12.6 ± 0.7 mg/g, fecal bile acid excretion increased marginally from 5.8 to 8.0 μmol/day per 100 g bw, while pool size was unchanged (16.6 μmol/100 g bw).\\n',\n",
              " 'The genes that are activated are different for each cell in our body to have its own function.\\n',\n",
              " '|^ t i In this little room they cooked, labored and existed.\\n',\n",
              " 'My son has been excluded from school because he got into a fight with other boys in his class.\\n',\n",
              " 'A good example is Quirk et al. (2013), who show how models and inference can be used to set boundary conditions on a paleoecological problem, and also to inform projections of future ecosystem response under changed boundary conditions, e.g. climate change.\\n',\n",
              " 'According to this , Dinosaur is one of the most popular pages on Wikipedia, receiving over 4,000 visitors a day, which works out to over 1.5 million views per year.\\n',\n",
              " 'Bot., 45:538-546.\\n',\n",
              " 'statement about the factual guilt, mental condition, and moral responsibility of a\\n',\n",
              " 'J Hattori Bot Lab 76: 159–172\\n',\n",
              " 'Finally, note that neither host nor parasite populations can go to extinction.\\n',\n",
              " '[4] (p.\\xa0152) Bailey describes the period of seclusion as being three months, but Grinker states that it is more like six months to a year and that the girls’ feet are not allowed to touch the ground without being wrapped in palm leaves and that whenever they have to use the bathroom, they must be carried to an outhouse wrapped in palm leaves so that the sun does not touch them.\\n',\n",
              " 'As an adult, this butterfly drinks nectar from plants, which are producers.\\n',\n",
              " '<br /> <br /> Intestinal obstruction or blockage in the stomach is a common cause of premature death in ferrets.\\n',\n",
              " 'Discuss trophic levels and how ecological pyramids are used to model them\\n',\n",
              " \"` Frontal bossing ' is when the forehead becomes bigger than normal which may also make the brow ridge stick out more .\\n\",\n",
              " 'However, a high fat meal increased systemic exposure of mesalamine (mean C max:\\xa0↑ 91%; mean AUC: ↑ 16%) compared to results in the fasted state.\\n',\n",
              " 'RAPID EYE MOVEMENT SLEEP\\n',\n",
              " 'Most women want and deserve to feel cared for, no matter how independent and strong-minded they are.\\n',\n",
              " \"biogenesis (bi o jgn' e sis).\\n\",\n",
              " 'The Clarks said the water was so clear that morning they could easily see the creature as it undulated at amazing speed like an uncoiling whip.\\n',\n",
              " 'Mann, K.H. & Chapman, A.R.O. (1975).\\n',\n",
              " 'tax rate for residents who live in Highland Park\\n',\n",
              " 'You can be a business owner or work as a technician on a crew.\\n',\n",
              " 'In terms of migrant labour, many women move from a more oppressive home country to a less oppressive environment where they have actual access to waged work.\\n',\n",
              " '‘If a ladybird lands on you, something wonderful will happen.’\\n',\n",
              " 'The tuber develops a pleasant sweetness during the winter, especially if subjected to frosts, and is then reasonably acceptable raw[K].\\n',\n",
              " 'What are ischial callosities?\\n',\n",
              " '98-187 maeulatus Melsh.\\n',\n",
              " 'To verify the existence of migrants between populations, we ran 10,000 MCMC simulations per population in GeneClass2 ( Piry et al., 2004 ) using the Lh/Lmax likelihood computation, where Lh is the likelihood of an individual being assigned to the population from which it was sampled and Lmax is the maximum likelihood for all populations considered.\\n',\n",
              " \"Kines (Songs From Shakespeare's Plays and Popular Songs of Shakespeare's Time), 1964, pg.\\n\",\n",
              " 'nyctaginaceous, nyctanthous, nycturia, nymphaeaceous.\\n',\n",
              " '[7] The herbaceous layer growth is not typical of young, disturbed spruce and fir stands.\\n',\n",
              " 'Transverse section of a single centric vascular bundle from the rhizome show- ing phloem surrounded by a ring of xylem.\\n',\n",
              " 'When the GE image was made most of the landfill was already closed, but a small area on the north side of the creek can be seen to still be active.\\n',\n",
              " 'de Sousa, D. P., Farias Nobrega, F. F., and de Almeida, R. N. Influence of the chirality of (R)-(-)- and (S)-(+)-carvone in the central nervous system: a comparative study.\\n',\n",
              " 'Red Phalarope\\n',\n",
              " 'With that event, I totally forgot to capture the sight in my phone.\\n',\n",
              " 'Socrates was famous for not answering questions in a direct manner .\\n',\n",
              " 'Because of this, he doesn’t think.\\n',\n",
              " 'the nubmer of births in a population in a certain amount of time\\n',\n",
              " \"'Rikki Pikki' has long-lasting white flowers are on 32-inch stems.\\n\",\n",
              " 'In film, they can reduce the clarity of a picture.\\n',\n",
              " 'The unit may\\n',\n",
              " '- - - Ivan Sergeevich Turgenev \"Fathers and Sons\"\\n',\n",
              " \"The War of the Roses was a commercial and critical success, as was the film adaptation of Roald Dahl 's Matilda .\\n\",\n",
              " 'Larvae feed on plankton in surface waters until they metamorphose and begin to migrate back to estuaries and other coastal nursery areas.\\n',\n",
              " 'A big, beautiful, white bird\\n',\n",
              " \"The Baudelaires become orphans at the Briny Beach, when Mr. Poe, the banker in charge of the family's affairs, inform the children that their parents have died in a terrible fire that engulfed the whole house.\\n\",\n",
              " 'Saving Energy as You Shop\\n',\n",
              " 'The blood from arterioles goes into the capillaries .\\n',\n",
              " 'I can use the right amount of force in order to move the spacecraft.\\n',\n",
              " 'The use of wood as a fuel source for heating is much older than civilization and is assumed to have been used by Neanderthals.\\n',\n",
              " '-- Row 87 -- &gt; -RCB- -RCB- -RCB- -RCB- -RCB- -RCB- -RCB- -RCB- -RCB- -RCB- -RCB- -RCB- -RCB- -RCB- -RCB- -RCB- -RCB- &lt; !\\n',\n",
              " '25 g of vaginal cream is sufficient for 3 intravaginal applications with additional cream for extravaginal use if required.\\n',\n",
              " 'We have already determined that B. sacchari has a cruclal piece of the mating pathway ie., the MAT locus itself.\\n',\n",
              " 'On its way to the lake, water is modified mainly by rock weathering.\\n',\n",
              " 'Problem-solving, for example carry-over additions and subtractions, can be tested by a simple question (see Table 4).\\n',\n",
              " 'Painting simply is in no position to present an object for simultaneous collective experience, as it was possible for architecture at all times, for the epic poem in the past, and for the movie today.\\n',\n",
              " 'Savage Species (2003) presented the drider as both a race and a playable class.\\n',\n",
              " 'Has an unsettling love for pirate maps (and bows and arrows).\\n',\n",
              " '2,879 views\\n',\n",
              " 'are likely the source of STX/PSTs in the case of these typically estuarine fish.\\n',\n",
              " 'We have a longing to have a perpetual motion, a flow of the experience of pleasure, which is not possible under existing conditions because a perpetual contact of the mind with pleasurable objects is not practicable, for various reasons.\\n',\n",
              " \"Specifically excluded from these offset provisions are all Department of Veterans Affairs' benefits; needs-based benefits; federal, state, or local disability benefits that are based on employment that was covered by Social Security; and private pension or private insurance benefits.\\n\",\n",
              " 'Angered by this delay Gilgamesh swears he will enter the \"Land of the\\n',\n",
              " 'Few kids in the United States and other developed nations experience severe malnutrition like that seen in Third World countries.\\n',\n",
              " 'If Figure 14.4.\\n',\n",
              " 'But following FDR\\'s death, Gary resurrected Warbucks, who said to Annie, \"Somehow I feel that the climate here has changed since I went away.\"\\n',\n",
              " 'Most careful examinations show size.\\n',\n",
              " 'The tracheids of these nodal steles are very short and fat and are more for the storage than for the passage of water.\\n',\n",
              " '* British Virgin Islands national football team .\\n',\n",
              " 'A deep passion is almost a necessity for a writer to produce an everlasting classic.\\n',\n",
              " 'A laxa- tive drink made by triturating 1 part of sodium borate and 4 parts of potassium bitartrate together, adding gradually 36 parts of boil- ing water, and mixing with 15 of honey.\\n',\n",
              " 'As faith (Hanuman) progresses in an aspirant, sattwa in him (Vibhishana) is led to rise beyond the pull of rajas (Ravana) and tamas (Kumbhakarna) That sattwa (Vibhishana) becomes increasingly potent for aiding Rama (the soul) in the eventual destruction of Ravana (ignorance and the forces of darkness).\\n',\n",
              " 'OVARALGIA (Lat.)\\n',\n",
              " 'Restoring the Dream.\\n',\n",
              " 'if they are predators they have a modified radula so they can bore holes in the shells of other moluscs or tearing the prey or thy are modified to be poisonous\\n',\n",
              " 'In this approach, a C++ object class corresponding to theWindows Object class inherits from IUnknown, and implements thesefunctions to control the object as a whole.\\n',\n",
              " 'Cnidarians are carnivorous – feeding on zooplankton, crustacea or small fish.\\n',\n",
              " '89, 91 ^H Life, sexual.\\n',\n",
              " 'Tyrannosaurus\\xa0appears in\\xa0Turok, as there is a T. rex\\xa0that has grown to intense size, as it is nicknamed \"Mama Scarface\", for the scar on its right eye.\\n',\n",
              " 'Much remains to be understood about the association of partial T-cell immunodeficiency and immune dysregulation.\\n',\n",
              " 'No evidence of accumulation of the drug was seen in any tissue.\\n',\n",
              " 'Her personal struggles were terrible, but the worst of it was as a toddler, her son was once severely burned and sexually abused in daycare, and later molested by a coach at school.\\n',\n",
              " \"The standard dosing recommendation is 225 IU administered daily, with a maximum dosage not to exceed 450 IU per day.15 Following 5 days of treatment, dosing adjustments may be made based on the patient's ovarian response, as determined by serum estradiol levels and ultrasound evaluation of follicular growth.15 An open, phase III, randomized, controlled IVF study (n = 373) concluded that 26% of patients had clinical pregnancy, with 23% of them continuing pregnancy.15 The most common adverse effects are headache, stomach pain, upset stomach, and injection-site reactions.15\\n\",\n",
              " 'More accurately, at the end of Phase 1 a small fraction of the total adaptive change in the expected mean phenotype still remains to be completed during the long second phase.\\n',\n",
              " 'In 2010 ten infants in California died, and health authorities declared an epidemic encompassing 9,120 cases.\\n',\n",
              " 'Find out if platinum hair suits you in Can You Get Away With Platinum Hair?\\n',\n",
              " 'The time between fertilization and hatching is thought to be 10 to 20 days; fecundity is low, with each female producing only 22,000 eggs per kg of body weight which is less than 10% of the average for other species of fish.\\n',\n",
              " 'a more formal word for death\\n',\n",
              " '15-415 Cal.\\n',\n",
              " '<, Appleton & Co.) involve any morphological absurdity if the ova and follicle-cells have a common origin.\\n',\n",
              " 'If you want to jump ahead or move more quickly because you know it already, then this is not the right program for you.\\n',\n",
              " 'returns to his main interest.\\n',\n",
              " 'Hyphae live in a network called...\\n',\n",
              " 'Having been transferred to the Army of the Cumberland, he was put in command of a brigade which fought through the Tennessee campaign (October, 1862, to March, 1863).\\n',\n",
              " 'Smg soldiers are the most inaccurate of all the combine forces, and tend to engage at a medium distance.\\n',\n",
              " '[29] [29] [40] [41] By the mid-2000s many analysts were looking to innovating companies as the next source of growth in the technology sector.\\n',\n",
              " \"Sevenfold Septlform litany, a litany said to have been instituted by St. Gregory the Great, A. D. 690, and used on St. Mark's day (April Z5th).\\n\",\n",
              " \"Bacharach's arrangements helped to disguise Dietrich's limited vocal range—she was a contralto [55] —and allowed her to perform her songs to maximum dramatic effect; [54] together, they recorded four albums and several singles between 1957 and 1964.\\n\",\n",
              " 'Adult Komodo dragons are an almost-uniform stone color with distinct, large scales.\\n',\n",
              " 'Another oversimplification in our exam- ple is the implication that a reflex has a simple stimulus in this case, the pin.\\n',\n",
              " 'But it lost that over the years.\\n',\n",
              " \"That's why the vitiates the escaped Darkness creates are wild and uncontrolled.\\n\",\n",
              " 'the sticky stigma\\n',\n",
              " 'The patient with a single flea may present as early as stage 2 when, though the erythema is barely perceptible, a boring pain and the curious sensation of pleasant itching occur.\\n',\n",
              " 'Studies have found that not only does the maternal or paternal relationship of the grandparent affect whether or how much help a grandchild receives, but also what kind of help.\\n',\n",
              " 'On the positive side, adequate levels of folate in the pregnant woman can greatly reduce the risk of problems with the baby’s spine, skull, and brain.\\n',\n",
              " 'a grace-and-favour a coffer Shirah Timofei a vinifera a frontlash a mousetail a nephograph a hyponatremia a loop-the-loop a recession a balibuntal Gur Deauville Benevento a subprofitableness a preternaturality a lazaretto Steve Oatway Helbona Leonidas a rebote Jerry Dixon a turnout a seamer a potholer Lia van Bekhoven a hair an erne an aniline an impetuousness a boost Kirilenko Rouault Balewa Spartanism a covenantor a poplin Leutze Veal a thoroughbredness Arseny an actinopterygian a baronetage Magen an ioniser Vicksburg The Nose: Free Hugs, TomKat, Happiness In Politics, And Travelling While Rude - 07/13/2012 Portobello a zootomy Bap a culm a semisecrecy a benzoylation a spunk AMusD a by-pass Mixtecos a deadline a bushpig Hallettsville Lauter argy-bargied dermatozzoa a jargoneer Meleager Leaper a granulator Carterville an aerophyte Helot Joao a self-preference Durex Drews roundhouses Adelbert a gyrostabilizer a teleology a hairpin a nonprudence an andamento a cabretta Andrej a cluster Colin McEnroe Show: Political Ads Give Us All Headaches - 10/21/2010 a buff a galvvanoscopy a pwt an iolite Richard Biggs Bayern a funkia a feedlot an exon a dunite a resensitization a pitcherful a kidnapper Ifni a flywheel Weisman Nancy Amato horse latitudes Beatty an amarelle ejidos Balkanism Marmawke a mischief-maker an encephalosis Incognito a resterilization Poe a figurine a hurly an alikeness Bobbie Phillips Rorke Sedlik a marrowfat a nonmalleabness a zabaglione Brockway GNP an electrophorus a smokechaser a non-Zionist a magic Lazarus an ans Tyrrell a cashbox choux a tullibee Pleasant a maggie an alderfly an infatuate costae a physicianship Hebe Hsi a monumentality Tavi a complexion Bottineau Kuwaiti a bacterium a continuant a capot a telpherage a lown a cockle a heteroecism an ambon ??\\n',\n",
              " 'Some fish, such as the herbivorous fish (grazers), often lack jaw teeth but have tooth-like grinding mills in their throats called pharyngeal teeth.e\\n',\n",
              " '“The MSC standard has not been watered down and does not and cannot set arbitrary standards,” says David Stone, MSC spokesman.\\n',\n",
              " 'The largest species of this order is the Hispaniolan solenodon , males of which can weigh up to 1\\xa0kg (35.3\\xa0oz) and reach lengths of 32\\xa0cm (13\\xa0in).\\n',\n",
              " 'Legend of the Black Shawarma [14] was released in 2009.\\n',\n",
              " 'This was 13 years ago, and much of what I experienced I use now to teach my children, and also use it to display how to be a good person, and how to go about handling life after high school.\\n',\n",
              " 'am] accord iiif^Iy biologists are now almost unanimous in inaimiiinin;: the contrary doctrine of biiypfnesis, which teaches tliat.\\n',\n",
              " 'You may also wish to remove your rear gear mech, pad it with foam and tape it to the chainstay out of harms way.\\n',\n",
              " 'The mole cricket was identified as a priority for conservation under the UK Biodiversity Action Plan (UK BAP).\\n',\n",
              " '(See the discussion of Chapter 2.)\\n',\n",
              " 'Corrections Officers\\n',\n",
              " 'It was an out-of-control situation,\" Kirkland police Lt. Mike Murray told The Seattle Times.\\n',\n",
              " 'The efficiency of the transportation of electrons in this case is 91%, a ratio which engineers can only dream of.\\n',\n",
              " 'In the Student Journal for Matter: It’s Properties and Changes, the student will record observations from the activities and answers to questions in the text.\\n',\n",
              " \"The Alden kids explore a mysterious old yellow house on their grandfather's property.\\n\",\n",
              " 'He characterizes such love as \"a sort of excess of feeling\".\\n',\n",
              " 'Handbook of Snakes of The United States and Canada.\\n',\n",
              " 'sensory feelers; nonpoisonous, but some have stink glands; size to about 5 inches (Figure 14.9).\\n',\n",
              " 'It is very unusual to see this in nature.\\n',\n",
              " 'He finally surrendered only when the case was transferred from the criminal court to a special environment court, where he would face lighter sentencing.\\n',\n",
              " 'I\\'ll end my review with a powerful -\\'theme\\' quote in \"THE DINNER\" (by the character Paul Lohman --the narrator):\\n',\n",
              " 'Once sternal recumbancy is attained (typically +/- 5 minutes), the neonate will begin to stand and the mother will position herself so the baby can follow the line of her abdomen back to the udder positioned between her hind legs.\\n',\n",
              " 'Molecular studies have cast doubts on this basis for classification and they have been moved to subgenus status within Leishmania.\\n',\n",
              " \"The person's skin and eye colors are usually in the normal range.\\n\",\n",
              " 'You’ll get the alert when you’re on-call, and not on other days.\\n',\n",
              " 'Lamarckism is the idea that an organism can pass on to its offspring characteristics that it acquired during its lifetime, also known as heritability of acquired characteristics or soft inheritance.\\n',\n",
              " 'At this January meeting it was — \"Voted that the company called the minute men in Hatfield be allowed one shilling each for three half days that they have already spent in Learning the military Art and the like sum for three half days more and after that nine pence for each half day in a week till the first of May next and Aat their captain and lieutenant have one shilling and six pence for each half day, one Sergeant, one Drummer and one Fifer have one shilling each half day during the time the soldiers have nine pence per day.\\n',\n",
              " 'Bishop, Paul (ed.)\\n',\n",
              " \"For the past three quarters, Caribou revenues have increased 12.1% (vs LY), which is modest compared to Starbucks' 10.2% jump.\\n\",\n",
              " 'Some species feed on dead animal matter\\n',\n",
              " 'Mental health care is slowly gaining ground in Western society.\\n',\n",
              " \"* Victoria Elena Flores as `` Young Suzette '' .\\n\",\n",
              " 'By the spring it was starting to show.\\n',\n",
              " 'Some silver pheasants have faces.\\n',\n",
              " 'Mckenzie said:\\n',\n",
              " 'On Kilauea, eruptions continue to dramatically change the landscape.\\n',\n",
              " 'Most regions contain atoms.\\n',\n",
              " 'As Señora de la Noche (\"Lady of the Night\"), she is often invoked by those exposed to the dangers of working at night, such as taxi drivers, bar owners, police, soldiers, and prostitutes.\\n',\n",
              " 'Except for a few grains that had embedded themselves into his palm.\\n',\n",
              " 'The\\xa0best listeners recognize that they cannot succeed without seeking out information from those around them and they let those people know that they have unique input that is valuable.\\n',\n",
              " 'This generalisation is too sweeping.\\n',\n",
              " 'When a group of birds stays in one area of degraded habitat because they are behaviorally trapped, captive breeding and release programs can help them to expand their range.\\n',\n",
              " 'where do muscle relaxants act?\\n',\n",
              " '(65.5% of the bases with 34.5% G+C) instead of the 50% expected from the law of averages.\\n',\n",
              " 'His shadow is shaped like large blue flames with his missing right blue eye with a white cross.\\n',\n",
              " 'Tachard witnessed such a fight in Siam.\\n',\n",
              " 'The lights on these traps are especially chosen to attract unwanted insects.\\n',\n",
              " 'THYROID SUPPLEMENTS\\n',\n",
              " 'Yeast functional complementation assay on minimal media plates containing as a sole nitrogen source 3 mmol/l (NH4)2SO4 or 0.1% glutamine (positive growth control).\\n',\n",
              " \"mously elected at Rome; but he declined to be Gregory's writings, dealing mostly with Church consecrated until the Emperor's sanction had government, are in Migne, Patrol.\\n\",\n",
              " '* -LSB- http://www.facebook.com/RonnieLott Facebook Fan Page -RSB- .\\n',\n",
              " 'Sequence analysis of cloned PCR fragments representing DNA-A and DNA-B components revealed a high degree of similarity with bean golden mosaic geminivirus (BGMV) from Guatemala and the Dominican Republic (93 and 91%, respectively).\\n',\n",
              " 'The superego can be divided into two subdivisions: the conscience which arises from rules about what behaviour is bad- the basis for guilt; and the ego ideal arising from rewards and what parents and society approve of- the basis of pride.\\n',\n",
              " 'BC to describe the irregular patchwork stone surface that was commonly applied to Republican-period walls, as a decorative facing for the concrete inner core.\\n',\n",
              " 'The highland part is currently under the control of Armenia .\\n',\n",
              " 'This gives rise to some pretty bizarre results, such as the case of Brown v. Laurin [2004] O.J. No. 5233 where a step-father was ordered to pay support for two kids even after they had gone to live with their natural father.\\n',\n",
              " 'This treaty was rejected by the Whigs, mainly as a show of hostility toward the Tyler administration.\\n',\n",
              " 'Chemically peculiar stars of spectral type Bp or Ap are appreciable magnetic radio sources, most Bp/Ap stars remain undetected, and of those reported early on as producing X-rays only few of them can be identified as probably single stars.\\n',\n",
              " 'The cytoplasmic contents of the cells now act as gametes.\\n',\n",
              " 'Kaminski, John P. \"Shall We Have a King?\\n',\n",
              " 'Kasuga-kenshoukai, Nara, pp 25–37 Google Scholar\\n',\n",
              " 'This study claims that Indians are developing resistance to antibiotics — and hence falling prey to a host of otherwise curable ailments.\\n',\n",
              " \"Broccoli's (and until 1975, Saltzman's) family company, Danjaq , has held ownership of the series through Eon, and maintained co-ownership with United Artists since the mid-1970s.\\n\",\n",
              " 'Also look for a program that can interface with the rig(s) you use or are likely to use.\\n',\n",
              " 'Black-and-white photomicrographs with labels.\\n',\n",
              " 'Mark all disk storage units that are used with SLPs as On demand only.\\n',\n",
              " 'Tiger bone: used as an anti-inflammatory drug to treat rheumatism and arthritis, general weakness, headaches, stiffness or paralysis in lower back and legs and dysentery\\n',\n",
              " 'This corruption and depravity are so widespread that our land is entirely depopulated.\\n',\n",
              " 'The hornless Indricotherium was almost seven meters high, ten meters long, and weighed as much as 15 tons.\\n',\n",
              " 'Carbon dioxide concentration.\\n',\n",
              " 'In spite of increasingly involved dads, mothers are more likely to be awarded full or primary custody in most states according to divorce and custody experts.\\n',\n",
              " 'Daisy brittle stars have a disc diameter of up to 2 cm and its arms grow to about 8 cm long.\\n',\n",
              " '** Ho Chi Minh Cable Television - HTVC -LRB- Ho Chi Minh City -RRB- .\\n',\n",
              " 'Adults with such abnormalities should also generally not be treated with stimulant drugs [see CONTRAINDICATIONS (4) ].\\n',\n",
              " 'spel, spell, a saying, tale, story, history, narrative, fable, also speech, discourse, command, teach- ing, doctrine, = OS.\\n',\n",
              " 'and black striped and I have two\\n',\n",
              " 'What a bargain it was, when one considers what would have to be paid for it today!\\n',\n",
              " 'Denmark does not currently have a King .\\n',\n",
              " '“Thou becamest the new Adam for the sake of the first, and wast born of a Virgin for our first mother’s sake.”\\n',\n",
              " 'The studio reconstructions reveal a mastery of trick work and studio imitation — but to what purpose?\\n',\n",
              " '-increase excretion of Na+ which increase urine output and decrease blood volume\\n',\n",
              " 'The ordinance includes provisions on kennel licenses, rabies vaccinations, control of dogs, enforcement of the ordinance, and more.\\n',\n",
              " 'Some metabolic actions of metformin do appear to occur by AMPK-independent mechanisms; the metabolic actions of metformin in the heart muscle can occur independent of changes in AMPK activity and may be mediated by p38 MAPK - and PKC -dependent mechanisms.\\n',\n",
              " 'Most churches have (part) doorsteps.\\n',\n",
              " '\", after subjecting the perp to a Secret Test of Character , Holmes \"appoints\" Watson as jury, and they declare him not guilty by reason of self-defence.\\n',\n",
              " 'It would appear, therefore, that the spermatozoa exhibit an elective affinity for ova belonging to the same species as themselves.\\n',\n",
              " '* Phoenix Natural Gas , a utility company in Northern Ireland .\\n',\n",
              " '\"There is no infinite fatigue life in metallic materials\".\\n',\n",
              " 'to the rotations of a pointer that\\n',\n",
              " 'The product has become a staple item for jugglers worldwide.\\n',\n",
              " '[Hyl] 496.\\n',\n",
              " 'Stevenville and Bottom brook, on spruce and stumps, sterile.\\n',\n",
              " 'The plant as a whole is \"said to be rich in vitamin B1, B2, and C\", but I have seen no analysis.\\n',\n",
              " 'Brand Identity & Logo Design\\n',\n",
              " 'Environmental issues such as smoke, dust and smells will seem very overwhelming to their tiny noses and it is certainly a good idea to make sure that they never come into contact with large amounts of anything like talcum powder, which could be very damaging to them.\\n',\n",
              " 'mifephonus Pierce 12-167 28.\\n',\n",
              " \"Carpenters' tool chests, which resemble blanket chests, often have small divisions and partitions with small drawers let into the base of the chest.\\n\",\n",
              " 'Body suddenly diminished at the base of the foot ; toes minute.\\'\"\\n',\n",
              " 'Great for moistur-izing and skin repair while re- Aloe Vera Gel, this Paraben-Free moisturizer is comprised\\n',\n",
              " 'Densities of white-tailed deer for winter yards may approach or exceed 100-125 individuals per square mile, but are 4-25 deer per square mile for summer.\\n',\n",
              " 'The picture is an old one but I have 2 young sugar glider brothers looking for a home.\\n',\n",
              " 'vl), which practically 382 THE DOGFISH LESS.\\n',\n",
              " 'c.1200, materie, \"subject of thought, speech, or expression,\" from Anglo-French matere, Old French matere \"subject, theme, topic; substance, content, material; character, education\" (12c., Modern French matière), from Latin materia \"substance from which something is made,\" also \"hard inner wood of a tree\" (cf. Portuguese madeira \"wood\"), from mater \"origin, source, mother\" (see mother (n.1)).\\n',\n",
              " '(From Chittenden: Harvest Mites, or \"Chiggers,\" U. S. Department of Agriculture; courtesy of Bureau of Entomology and Plant Quarantine.)\\n',\n",
              " \"Mahler was influenced by Richard Wagner during his student days, and later became a leading interpreter of Wagner's operas.\\n\",\n",
              " '* 1910 -- Leo Tolstoy , Russian writer -LRB- b. 1828 -RRB- .\\n',\n",
              " 'Tree of cultivation, throughout the state; flowers white with yellow or orange markings.\\n',\n",
              " 'Friday, 17 December 2010, 7:27 PM\\n',\n",
              " 'Big Trailer\\n',\n",
              " '“Since I began directing this type of adventure, I’ve grown accustomed to this kind of situation — living from day to day, a journey without maps.\\n',\n",
              " 'Pyruvate can also be used to recover PEP via pyruvate phosphate dikinase , a high-energy step, which requires ATP and an additional phosphate .\\n',\n",
              " 'Manipulation of Fertilization Procedures to Improve Hatchery Walleye Egg Fertility and Survival.\\n',\n",
              " 'Masonry materials are some of the most common and durable materials used in construction.\\n',\n",
              " 'The mission of this station is to act to prevent terrorism , help people who are fleeing Cuba and stop drug crime .\\n',\n",
              " 'They’d rather be cold than change.”\\n',\n",
              " 'Large mammals such as pig s, bear s, and deer also consume large amounts of acorns: they may constitute up to 25% of the diet of deer in the autumn.\\n',\n",
              " 'One thing that worries me about this page is that it seems to have been edited only by individuals with some personal (and therefore biased) interest in an article on \"asexuality\".\\n',\n",
              " 'If you use the wrong extinguisher(s), the result could be fatal also in some cases.\\n',\n",
              " 'For example, consider a 6 x 6 x 2 inch brick.\\n',\n",
              " 'Consequently, their elevation range is from sea level to as high as 5,300 m asl in Ladakh (R. Simpson pers.\\n',\n",
              " 'It argues that extra public spending linked to the crisis will increase GDP in the short run, while medium-term growth should be boosted by the increase in labour supply.\\n',\n",
              " ', a child, <Aty, a vein, and TOM^, a cutting.\\n',\n",
              " 'Scientists examined 17 generations of the salmon, and they sampled five to 30 fish every day during the odd years from 1983 to 1993, plus 2001 and 2011.\\n',\n",
              " 'Integration across heterogeneous data resources—some that might be considered \"big data\" and others not—presents formidable logistical as well as analytical challenges, but many researchers argue that such integrations are likely to represent the most promising new frontiers in science.\\n',\n",
              " 'Why Brazilian pepper must be managed\\n',\n",
              " 'Box-elder, radial and cross-sections of stem of, *70.\\n',\n",
              " \"He later worked for Hanna-Barbera 's television cartoons, most notably as the voices of Barney Rubble on The Flintstones and Mr. Spacely on The Jetsons .\\n\",\n",
              " '[L. 30, 37, 41 (a, 14) ; L (a, 48).]\\n',\n",
              " 'The colors of fishes are due to pigments developed in certain dermal cells known as chromatophores.\\n',\n",
              " 'But we believe a peaceful agreement is possible which protects the freedom of West Berlin and allied presence and access, while recognizing the historic and legitimate interests of others in assuring European security.\\n',\n",
              " 'Never allow puddles in a mantis container, they will drown the feeder insects and possibly the mantis.\\n',\n",
              " 'Solar System bodies (H)[ edit ]\\n',\n",
              " 'Third, a repeated stimulus is more likely to be noticed than one that is not repeated.\\n',\n",
              " 'The wood of the pecan is intermediate in weight and strength between walnut and hickory.\\n',\n",
              " 'The Commercial/Industrial installations must conform to the 2007 edition of the NEC.\\n',\n",
              " 'ability to tolerate a chemical or disease.\\n',\n",
              " 'Battersea Power Station , pictured in 2012\\n',\n",
              " 'Fertilizers are usually marked with a number such as 20–20–20.\\n',\n",
              " 'Soy-based infant formulas\\n',\n",
              " 'A heterotroph (or consumer) is a living thing that eats other living things to survive.\\n',\n",
              " 'BIGHORN LIFECYLE PATTERNS – MAYFLIES\\n',\n",
              " 'Lungs are hypothesized to have developed as outcroppings of the _____.\\n',\n",
              " 'Ask your health care provider any questions you may have about how to use Carac cream.\\n',\n",
              " 'Most mosquitoes seek meals.\\n',\n",
              " 'Cordgrass reduces open mud feeding habitats of shorebirds, competes with indigenous salt marsh vegetation, and alters the hydrology, structure, and function of wetlands.\\n',\n",
              " \"Accompanied by family and friends, the dead man's sister and the inspector walked to the wooded knoll.\\n\",\n",
              " 'In February 2005 , an optional writing test was added to the ACT , like changes to the SAT that took place later in March of the same year .\\n',\n",
              " '* Drugs , especially sedatives .\\n',\n",
              " '[ME leven, etym.\\n',\n",
              " 'The third main feature of AD is the loss of connections between cells.\\n',\n",
              " 'CACTI AND OTHER SUCCULENTS\\n',\n",
              " 'When vetting a home for a parent, look out for these red flags.\\n',\n",
              " 'Category :1924 births Category : Living people Category : American actors Category : Armenian diaspora Category : French actors Category : French singers Category : French songwriters\\n',\n",
              " 'Penetration to the second layer and more distant lymph nodes, or the third layer and only nearby lymph nodes, or all four layers but not the lymph nodes.\\n',\n",
              " '• Caused by a deficiency of insulin (Type 1) or a decreased response to insulin in target tissues (Type 2)\\n',\n",
              " 'This information is important in understanding the evolutionary origins of these organisms, because it suggests that the bacterial and archaeal lines diverged from a common precursor somewhat before eukaryotic cells developed.\\n',\n",
              " '(Northern California2) – See all my reviews\\n',\n",
              " 'Beginning in late 2000, Kitt starred as the Fairy Godmother in the U.S. national tour of Cinderella .\\n',\n",
              " '\"I don\\'t give a fuck who you are.\\n',\n",
              " 'During 2004, plantains contributed to the Agricultural Gross Income (AGI) $56.8 million, 20% of the crop category.\\n',\n",
              " 'And now, even without Rasputin at his elbow, he still believed the charlatan had been half divine.\\n',\n",
              " 'Rainbow Bridge: 11/04/2009 - Lung Cancer!!\\n',\n",
              " 'Their centralized and graduated political systems were accompanied by ecclesiastical systems which were analogous in complexity and subordination.\\n',\n",
              " 'Video of His Holiness the Dalai Lama joining religious leaders from diverse traditions for an inter-faith prayer for world peace at the Grossmünster Church in Zurich, Switzerland on October 15 2016.\\n',\n",
              " \"Here you'll find an Inert Bomb Growth.\\n\",\n",
              " 'Not only am I back in the saddle but I am back in the office.\\n',\n",
              " \"So eu*b- ist n. [cube, -ism 1 cu'eking-stool, n. (hist.)\\n\",\n",
              " 'Red Stomach Worm is a very common parasite and one of the most pathogenic nematode of ruminants.\\n',\n",
              " 'The effectiveness of this type of vaccine depends on the relatively slow development of the infecting pathogen prior to the onset of disease symptoms and the ability of the vaccine to initiate antibody production before the active toxins are produced and released to the site where they can cause serious disease symptoms.\\n',\n",
              " 'Hence, cast iron is a brittle metal, which can break like glass.\\n',\n",
              " 'When Richard finds out about an interesting vine left in a jar for him by his dead father , Richard decides to go into the forest to try to find the vine .\\n',\n",
              " '[52] [56] The destruction of sea grass beds is a threat to the survival of this species.\\n',\n",
              " 'In this direction, I do the best I can.\\n',\n",
              " 'Ph. ordering the addition of an equal amount of sodium carbonate), fennel-seed [Russ.\\n',\n",
              " 'Successful trip to Malay Archipelago\\n',\n",
              " 'Back at home she confronted me on the eye roll and sigh.\\n',\n",
              " 'The whites erroneously thought they had killed all those who had been hostages.\\n',\n",
              " 'I have conducted a large series of field experiments to quantify the structure of the food webs surrounding these damselfly assemblages.\\n',\n",
              " 'In M.J. Benton -LRB- ed . -RRB-\\n',\n",
              " 'Recall that in addition to its role as structural support for the interior of the cell, the cytoskeleton is also involved in intracellular organelle transport.\\n',\n",
              " \"There's a lot to be learned from their momma during this stage of puppy development.\\n\",\n",
              " '- Zebun Nesa Zeba\\n',\n",
              " 'My life seems to be going down hill now.\\n',\n",
              " 'When simi- lar portions of bouillon had added to them one half gram, one gram, three grams, five grams and ten grams of soil, respectively, growth occurred in the different tubes depend- ing on the amount of acid present in the medium, or that supplied by the soil.\\n',\n",
              " 'Diesel engines are slightly better at transferring energy, up to 40 percent ends up as useful kinetic energy.\\n',\n",
              " \"People of the goth subculture , which began in the early 1980s among fans of the band Bauhaus , generally regard themselves as being `` decadent '' .\\n\",\n",
              " 'The individual motions of the stars act as a shield that stops them from eventually crashing into each other.\\n',\n",
              " 'For example , dengue can cause transverse myelitis and Guillain-Barré syndrome .\\n',\n",
              " \"` Antonio Adán ' -LRB- born 13 May 1987 -RRB- is a Spanish football player .\\n\",\n",
              " 'Northampton ware\\n',\n",
              " \"It may look like Yahweh's seed is losing during the Antichrist's War on the Saints but we know that Yahweh Himself will have the last act on the stage called Earth.\\n\",\n",
              " 'The common approach to preventing these conditions is through certification of unaffected breeding stock by the Canine Eye Registry Foundation (CERF).\\n',\n",
              " 'Aches are often more bony than muscular.\\n',\n",
              " 'Most inactive compounds provide advantage.\\n',\n",
              " 'Many boundaries of diverging plates are on the floors of the oceans.\\n',\n",
              " 'Some woodchucks have patterns.\\n',\n",
              " '2005 Apr;100 Suppl 2:59-69.\\n',\n",
              " 'Fishery Bulletin 98:600-611.\\n',\n",
              " 'Life and war is far more complicated than that.\\n',\n",
              " 'In our experiment, what astonished us was many unexpected positive results are realized.\\n',\n",
              " 'Nonorganically produced, untreated seeds and planting stock may be used to produce an organic crop when an equivalent organically produced variety is not commercially available.\\n',\n",
              " 'Once baby flounder settle on the bottom they move into very shallow inshore estuaries and the upper reaches of harbours.\\n',\n",
              " 'But the US did veto it.\\n',\n",
              " 'Some individuals in a team or community may reduce their contributions or performance if they believe that one or more other members of the group may free ride.http : / / som.eldoc.ub.rug.nl / FILES/reports/themeA / 2003/03A42/03a42 .\\n',\n",
              " '\"We have great partnerships ... Working together is the only thing that is going to make this mission possible.\"\\n',\n",
              " 'Pig farmers have been plunged into loss by high pig-feed costs, spike in prices for grain crops, which are used to feed animals.\\n',\n",
              " 'Active Eye Growroom Lenses\\n',\n",
              " 'Show tunes were hummed and sung in homes and in the movies.\\n',\n",
              " 'As I reported two years ago , scientists first documented these attacks in 1972.\\n',\n",
              " 'How did you get a desert tortoise and a gopher tortoise in the same yard?\\n',\n",
              " 'symbiotic relationship that benefits BOTH organisms\\n',\n",
              " 'Journal of Human Evolution, 31, 311-314.\\n',\n",
              " 'If you have any questions about carbs feel free to contact me and I will write back to your personally.\\n',\n",
              " '(transplant) cytotoxic, suppressor, helper (AIDS)\\n',\n",
              " 'Add sesame oil and spring onions and cook for one more minute.\\n',\n",
              " 'Unfortunately for his followers, Caribou only appears to value himself.\\n',\n",
              " 'and birthdays flew past like june\\n',\n",
              " 'The cave was occupied from at least the Middle Palaeolithic and the animal engravings are attributed to the Gravettian.\\n',\n",
              " 'i Like the Raven, the Crows are often contrasted with something pure and white.\\n',\n",
              " 'Cameron JN (1986) Acid-base equilibria in invertebrates.\\n',\n",
              " 'Movable flap that covers the trachea, preventing food from entering the windpipe\\n',\n",
              " 'Summary of various processes of purifying water in its cycle from rain to rain.\\n',\n",
              " \"GERD causes stomach acid to back up into the esophagus -- and from there, it's a short distance to the mouth for some of the damaging acid.\\n\",\n",
              " 'The population of the breed has been in decline since 1985, despite government promotion of the breed.\\n',\n",
              " 'Scientifically sound criteria for determining whether foods require time/temperature control for safety could consider the interaction of only pH and aw factors using data from microbial growth models such as those shown in the table above.\\n',\n",
              " \"Haematopinus suis feeds only on its host swine's blood.\\n\",\n",
              " 'The probiotics that offer the most benefits are highly dependent on the unique mix of environment, genetics, diet, and other factors in each individual.\\n',\n",
              " 'Snow White Charming : What kind of men would be right for Mother?\\n',\n",
              " 'This does not provide the same set of nutritional benefits as real wasabi so care needs to be taken to ensure that the wasabi being consumed is actually from the wasabi plant itself.\\n',\n",
              " 'Stress contributes to numerous mental disorders and impairs cognition.\\n',\n",
              " 'The Baroque was a time when people liked large spaces and a lot of ornamentation .\\n',\n",
              " 'What a wonderful Savior!\\n',\n",
              " 'Processing of foods of high-acid content in boiling water; of low-acid content in pressure cooker.\\n',\n",
              " 'The province covers about a third of Somalia , and about a third of the population of Somalia lives in the province .\\n',\n",
              " 'The ureters are muscular tubes that transport urine from the kidneys to the urinary bladder.\\n',\n",
              " 'vith the point of the finest needle made— a number 16.\\n',\n",
              " 'French: Oriole des vergers German: Gartentrupial Spanish: Turpial Castaño\\n',\n",
              " 'Herblore Habitat\\n',\n",
              " 'Global changes usually happen too slowly for individuals to recognize, but accumulated human knowledge, together with further scientific research, can help people learn more about these challenges and guide their responses.\\n',\n",
              " 'Rhizophora mangle L. seedlings.\\n',\n",
              " 'Silene alpestris .... Mentha viridis .... I 15-20 Hierochloa borealis Urtica dioica .\\n',\n",
              " 'But Courtney tried to push her out and said, \"Lucia\\'s mad.\\n',\n",
              " 'How many barr bodies would you expect to find in humans with the following abnormal compositions of sex chromosomes?\\n',\n",
              " 'I was born in Australia but grew up in England what is depakote used for in adults \"We could not expect more compromise from Iran from furtherprolonged negotiation,\" said Nobumasa Akiyama, at Japan\\'s Schoolof International and Public Policy at Hitotsubashi University,of the deal.\\n',\n",
              " 'Some carpels are part of snowdrops.\\n',\n",
              " '2 join (rails) with a fish-plate.\\n',\n",
              " 'They were outstanding.”\\n',\n",
              " 'Rather than provide nutrition for the embryo (as in many animals) the yolk sac forms part of the gut, produces the earliest blood cells and blood vessels, and is the source of germ cells that migrate into the embryo to seed the gonads.\\n',\n",
              " 'News of singer Seal ’s death spread quickly earlier this week causing concern among fans across the world.\\n',\n",
              " 'What however happens by the end of the video is remarkable to say the least!\\n',\n",
              " 'The origin of this vast set of information through Evolution is speculation.\\n',\n",
              " 'Some traps flashes light in certain frequency that lure some mosquito species, and others produce different scents, such as octenol, to simulate scents produced by a human body.\\n',\n",
              " 'CLH: Sign language\\n',\n",
              " 'What was yours?\\n',\n",
              " '[79] For example, the shaman\\'s drumming can appear to its members as certainty of knowledge —this explains the above described etymology for the word \"shaman\" as meaning \"one who knows.\"\\n',\n",
              " 'Afterwards , the answers and their point values are revealed .\\n',\n",
              " \"Due to Farmer's box office appeal, however, the play became the biggest hit in the Group's history.\\n\",\n",
              " \"Alfred Kroeber's definition of culture\\n\",\n",
              " 'The leaves are linear in shape, with their veins usually arranged parallel to the edges, single and arranged alternating on the stem, or in a rosette at the base.\\n',\n",
              " 'Introduction as an exotic species[ edit ]\\n',\n",
              " 'Habitat-related differences in the abundance of parasites from a coral reef fish: An indication of the movement patterns of Hemigymnus melapterus.\\n',\n",
              " 'Jaguar enhances spiritual and psychic vision with a keen sense of awareness, pinpointing strong intuitional abilities.\\n',\n",
              " 'Most beetles feed on vegetables.\\n',\n",
              " 'He figures that the gaseous mass, presumably split off from the sun by tidal rupture due to another » T. A. Jagger, Volcanologic Investigations at Klhuica, Am.\\n',\n",
              " 'Dolphin Spiffie: \"Well, bananas don\\'t just fall out of the sky!\\n',\n",
              " 'Zadkiel has other motives he keeps to himself, of which he needs the powers of the riders to tear down the walls of New Jerusalem and wage war on the heavens.\\n',\n",
              " 'Each time a cell divides a telomere gets shorter.\\n',\n",
              " 'Cubozoa are all marine, are box shaped medusae, have a potent venom, and have complex eyes\\n',\n",
              " 'Many structural labs exist to test these structural scale models such as the Newmark Civil Engineering Laboratory at the University of Illinois, UC.\\n',\n",
              " 'The activity finder can be found in the lower left hand corner of the Student LaunchPad page.\\n',\n",
              " 'Most mothers get senses.\\n',\n",
              " 'Flesh is flesh\\n',\n",
              " 'The word arthritis means \"inflammation of the joint\" and is used to describe pain, stiffness, and swelling in the joints.\\n',\n",
              " 'Mature ovum, B. Infundibulum, C. Magnum, D. Isthmus, E. Uterus, F. Vagina, G. Cloaca, H. Large intestine, I. rudiment of right oviduct\\n',\n",
              " 'At this time , he got divorced from his wife because of the birth of Maïa .\\n',\n",
              " \"The mountain tapir, endangered 'flagship' species of the high Andes.\\n\",\n",
              " 'Close contact with someone who is infected.\\n',\n",
              " 'His mother , Virginia Clinton Kelley was a Nurse anesthetist .\\n',\n",
              " 'At the age of 13 , he got a telescope .\\n',\n",
              " '\"Oh, hey, so tell me, are your jumps coming along as well as Mario\\'s?\\n',\n",
              " 'With widespread sea star die-offs, urchins are coming out of hiding along the central California coast.\\n',\n",
              " \"The ` Lahore Museum ' or ` Ajaib Ghar ' -LRB- Urdu : Wonder House -RRB- is a museum in the city of Lahore , Pakistan .\\n\",\n",
              " 'Thus, according to both interpretations, mass and energy are the same properties of physical systems.\\n',\n",
              " \"One of the most widely practiced treatments for speech disorders associated with Parkinson's disease is the Lee Silverman voice treatment (LSVT).\\n\",\n",
              " 'Immature males and females collected (N=82) between November and February had 8% containing Pb shot.\\n',\n",
              " 'Establish procedures for mandatory use of safety equipment when working.\\n',\n",
              " 'It does not occur in Corsica, Sardinia, or Sicily.\\n',\n",
              " 'globalisation pros and cons essay It is happening again in Virginia, where it appears almost certain that Republicans will lose the governorship because its nominees for governor and lieutenant governor insist ...\\n',\n",
              " 'Scientists believe that these animals have changed little over tens of millions of years.\\n',\n",
              " 'Small pachycaul shrub to 3′.\\n',\n",
              " 'Puppies should not be shy or aggressive.\\n',\n",
              " \"The league really didn't know how to handle Wilt, and subconsciously, the refs let the little guys get away with murder.\\n\",\n",
              " 'Using multi-locus variable number tandem repeat (VNTR) analysis (MLVA) and multilocus sequence typing (MLST) in microbial forensics may be problematic because periods between pathogen introduction and discovery may allow evolutionary changes in the pathogen genome; bacteria grown in a laboratory may exhibit unusual rates or types of genetic change.\\n',\n",
              " 'Chief, Division of Academic General Pediatrics\\n',\n",
              " '[24 FR 4480, June 2, 1959, as amended at 53 FR 31315, Aug. 18, 1988]\\n',\n",
              " 'progressive immunodeficiency and onset of opportunistic infections and neoplasms\\n',\n",
              " 'When trees are removed from an area, the soil is much more easily washed away.\\n',\n",
              " 'member of a clade that contains the vast majority of flowering plants that have two embryonic seed leaves, or cotyledons\\n',\n",
              " 'Ethology is the zoological study of animal behavior with a special interest in \"genetically programmed\" behaviors, known more commonly as instincts.\\n',\n",
              " 'This is com- monly known as a chMamJb, and it the last four times of such a line are all long, it is said to be isohiorrhogic.\\n',\n",
              " '68514 (2016-10-15 06:41:52)\\n',\n",
              " 'For now, they will be warm and well.\"\\n',\n",
              " 'Drinking water was presented in 70 L plastic wading pools and was replenished twice daily.\\n',\n",
              " \"I'll definitely look into a PolyFilter, that sounds a good idea - want to do my best for them, felt awful for the first ones.\\n\",\n",
              " 'The type you should use depends on the national citation style of the work in question .\\n',\n",
              " 'And throughout the body, cells such as fibroblasts secrete collagen and other structural proteins to provide strength and hold the body together.\\n',\n",
              " \", n. Rad'e a -zuch s t.\\n\",\n",
              " 'is the name of a Japanese artificial satellite put into orbit .\\n',\n",
              " \"Jupiter is meant to be the King's celestial counterpart, while Saturn , who represents finite time, is an indication of the end of Henry's mortal existence.\\n\",\n",
              " 'And if one doesn’t make it, the family may not go at all.\\n',\n",
              " \"I don't want to waste more money on shipping and have the same thing happen again.\\n\",\n",
              " 'SO, STOP CRYING WHEN KITTY DOESNT COME HOME FOR 4 DAYS, ITS ALL YOUR FAULT SO I HOPE YOU FEEL GUILTY.\\n',\n",
              " 'The skeletal and muscular systems of this gymnast interact closely as she performs these graceful movements.\\n',\n",
              " \"Photosynthesis happens in the plant's leaves.\\n\",\n",
              " 'Or digestive juices are injected into the prey and the resulting liquefied meal is then sucked up.\\n',\n",
              " 'During the breeding season, foxes can be drawn into areas by pet dogs in heat.\\n',\n",
              " 'Soft integument derivatives Unicellular mucus glands are scattered all over the body of fish.\\n',\n",
              " '[64] [65] In 1940, Rupert Wildt calculated that the amount of CO2 in the Venusian atmosphere would raise surface temperature above the boiling point for water.\\n',\n",
              " 'Spend the six to eight weeks before the last frost keeping the seedlings well-watered and warm.\\n',\n",
              " 'Between 1878 and 1921 , the Meiji period and Taishō period , districts were given specific powers and responsibilities which are now diffused .\\n',\n",
              " 'The method employed was that of direct weighing.\\n',\n",
              " '— Supra-anal lamina.\\n',\n",
              " 'The risks of espionage vary.\\n',\n",
              " 'Loukas, Alex, Jeffrey M. Bethony, Susana Mendenz, et al. _Vaccination with recombinant aspartic\\n',\n",
              " '_ Sociologists and psychologists have gathered lots of data on how society influences behavior.\\n',\n",
              " 'They are about three feet from the foundation and are five to six feet tall with trunks about five to six inches in diameter.\\n',\n",
              " 'Who will triumph?!\\n',\n",
              " '21 For, behold, the LORD cometh out of his place to punish the inhabitants of the earth for their iniquity: the earth also shall disclose her blood, and shall no more cover her slain.\\n',\n",
              " '1 Such cases as those cited above have led Castle, Heape, and others to conclude that all animals and plants are potentially hermaphrodite, inasmuch as they contain the characters of both sexes, although ordinarily the characters of one sex only are developed, while those of the other are either latent or imperfectly developed.\\n',\n",
              " '[13] Ibuprofen can exacerbate asthma, sometimes fatally.\\n',\n",
              " 'I think Boris Badunov would make a PERFECT press secretary for Obama; so much better than that weasel, Jay Carney.\\n',\n",
              " 'The woods under the faded billboards along the highway were shrouded in darkness.\\n',\n",
              " \"o'//af^^ t^/'sk Mouth Uasfax Sfomach Yolk gr/ar!\\n\",\n",
              " '[B, 4, 2r (a, 38).]\\n',\n",
              " 'His operative course was smooth, his pressure ranging about 120/75, pulse 120.\\n',\n",
              " 'Lesson Proper Have the class study the following illustration.\\n',\n",
              " 'Anybody who takes training seriously will be fighting free radicals inside their body.\\n',\n",
              " 'Richter, W. Der Kaumechanismus beim Menschen und beim AfFen, ein Vergleich.\\n',\n",
              " 'Then, at work, they may remove the watch when going to some location where strong magnets are present.\\n',\n",
              " \"* ` Mrs. Robertson ' : The Lakewood Elementary School Kindergarten teacher who is now retired .\\n\",\n",
              " ': What’s your favorite brand of makeup, if you had to pick one?\\n',\n",
              " \"On May 22, 2010, a 24-year-old man sleeping on his friend's patio in Port Aransas, Texas was awakened by a coyote biting him four times in quick succession on the arm and hand.\\n\",\n",
              " 'By killing the animal one releases life.\\n',\n",
              " 'Springer, Berlin Heidelberg New York, pp\\xa0434–455\\n',\n",
              " \"Yet, they might also be supervised by a black driver or overseer responsible for representing the master's interests, a position which could prove divisive within the slave community particularly because the driver would be obliged to mete out punishments on other blacks.\\n\",\n",
              " 'If the epithelial cells are viewed under a microscope, their size and shape will change as the estrous cycle progresses.\\n',\n",
              " 'Another huge attraction of the festival is the camel auction, where racing camels fetch hundreds of thousands of dirhams to its owners.\\n',\n",
              " 'This includes the use of epinephrine , atropine , lidocaine , and amiodarone .\\n',\n",
              " 'He continues to hear stories about that time from elderly survivors - some about the existence of black soldiers in teh liberation, and some about the actual people in the camps.\\n',\n",
              " 'A method for asexual in vitro propagation of corn plants is described.\\n',\n",
              " 'Bentley and the Talent Contest.\\n',\n",
              " \"Other works include: Dissertation *ur la Fetms de Paphoe (1827) ; Dissertation *ur le dieu Berapi* et eon origins (1838) ; Thtogonie d'Biaiode (1835).\\n\",\n",
              " 'Some soft plastic baits to fish when the Mullet are around are the Exude, Berkley Gulp Jerk Shad, or D.O.A Cal Jerkbaits\\n',\n",
              " 'The Outline is also intended to be a study guide , and to tell a student who wants to learn a topic in depth what articles to use .\\n',\n",
              " '$& Learn- ing responses which lead to goals; for example, learning to solve a puzzle, solve a problem, master a skill.\\n',\n",
              " 'How to Set Snares.\\n',\n",
              " 'Thousands of living beings in this world need urgent help but the number of those who understand this fact is very small.\\n',\n",
              " '18:6-15__________ David cried out in terror, and in His heavenly temple God heard his call for help.\\n',\n",
              " 'One of our biggest shortcomings is that we can’t see the long-term, and we see that in the way we respond to all kinds of environmental issues.\\n',\n",
              " 'J Exp Zool 246:271–284 PubMed CrossRef Google Scholar\\n',\n",
              " 'California, Demographics of the United States, Hispanic and Latino Americans 1103 \\xa0Words | 3 \\xa0Pages\\n',\n",
              " 'Esther E. Marquez, NMSU student and part-time assistant at Las Cruces (herbicide resistance).\\n',\n",
              " 'HAGERTY: Right, you do, I do, everyone has brain abnormality - because, you know, the normal brain is the average of everyone.\\n',\n",
              " 'Co-first authors of the paper are postdoctoral fellow Jennifer Wong, PhD and Stacey Dutton, PhD, now an assistant professor of biology at Agnes Scott College.\\n',\n",
              " 'With global warming (below), food\\n',\n",
              " 'With all of these lifestyle diseases, it’s important to keep circulating glucose levels under control – both to prevent the harmful consequences of high blood sugar, as well as high levels of insulin as the body attempts to deal with blood glucose running amok.\\n',\n",
              " 'In Waterbirds around the World, G. C. Boere, C. Galbraith and D. A. Stroud (eds,), The Stationery Office, Edinburgh, UK, pp. 138-139.\\n',\n",
              " 'In theses day_s however, change must be wholesale and sensational or it produces no effect.\\n',\n",
              " 'THANK YOU FOR YOUR COOPERATION!\\n',\n",
              " 'Accounts of the use of leeches for the medically dubious practise of blood-letting have come from China around 30\\xa0AD, India around 200\\xa0AD, ancient Rome around 50\\xa0AD and later throughout Europe.\\n',\n",
              " \"They secured the Class T driver's titles in 2009 and 2011.\\n\",\n",
              " 'Active solar techniques use photovoltaics, concentrated solar power , solar thermal collectors , pumps, and fans to convert sunlight into useful outputs.\\n',\n",
              " 'In the two-part, fifth season premiere, Homecoming, Beast Boy becomes the first male Titan in the series to be explicitly referred to by his real name (Garfield).\\n',\n",
              " 'A combination of declining federal support and the economic downturn had left the ...\\n',\n",
              " 'Reproductive progression to ter-\\n',\n",
              " 'Statements that suggest that inflation has few negative effects are called dovish.\\n',\n",
              " \"Regular measurements of your child's height, weight and head circumference and plotting them on a growth chart are a good way to see if your child is growing normally.\\n\",\n",
              " 'Urials feed mainly on grass but are able to eat leaves of trees and bushes if needed.\\n',\n",
              " 'See XEROSIS.\\n',\n",
              " 'This attitude, faith, and action portrayed His entire ministry on earth (cf. Phil.\\n',\n",
              " '@Anonymous: Looks like there isn’t enough of oxygen in your aquarium.\\n',\n",
              " \"All aquatic organisms must deal with the problem of maintaining internal homeostasis, a constant internal chemical environment in which that organism's enzymes can operate efficiently.\\n\",\n",
              " 'No matter what you call it, gut feelings can be a pretty powerful tool when it comes to making important choices in your life.\\n',\n",
              " 'Journal of Wildlife Management 32:489-500.\\n',\n",
              " 'It is between the Volga River and the Kama River -LRB- a tributary of the Volga -RRB- , and extends east to the Ural Mountains .\\n',\n",
              " \"However,\\xa0it's not necessarily as bleak as people imagine.\\n\",\n",
              " \"—Righi of support, in law: (a) The right of a person to have his soil or buildings supported by his neigh- bor's house or land.\\n\",\n",
              " 'individuals more likely to expect failure when they feel they are tense or psychologically aroused\\n',\n",
              " 'Elephants , lions , buffalo , hippopotamuses , rhinoceroses , giraffes , antelopes , leopards , cheetahs , hyenas , and many species of snakes are found here, although most large carnivore populations have been drastically reduced since the early 20th century.\\n',\n",
              " \"Articles that cite this source should add ' to the article .\\n\",\n",
              " 'Decomposers recycle nutrients from dead plant or animal matter back to the soil in terrestrial environments or to the water in aquatic environments.\\n',\n",
              " \"In cases where Britton's genus covers only part of the genus as given in this book, a state- ment to that effect is made, as on p. 186, — B. Fl.\\n\",\n",
              " \"Lavender incense contributes to a pleasant mood—but it lowers volunteers' mathematical abilities.\\n\",\n",
              " 'Products include: Pepsi, Diet Pepsi, Tropicana Orange Juice, Doritos, Quaker Oatmeal, Mountain Dew, Fritos, Gatorade\\n',\n",
              " '7/3/1944- 2/12/2002\\n',\n",
              " 'It is then mixed with fluids from the accessory sex glands, and ejaculated through the penis.\\n',\n",
              " 'Some people love frogs.\\n',\n",
              " 'Because each leaflet can appear to be a simple leaf , it is important to recognize where the petiole occurs to identify a compound leaf .\\n',\n",
              " 'Some women carrying twins will be advised by their physicians to take several kinds of supplements (iron, calcium, and so on).\\n',\n",
              " 'Melliods iind Approadifs ...Tlie Preliiflory of Eng- iLsh: Tlie lndo-Euro|K;m tlmlexl.\\n',\n",
              " \"From roughly the tenth century on, however, freestand- ing images-including some large ones-appear at many locations in north and central India; for example, a giant with upraised arm, crushing a demon pair, found at Indore in Madhya Pradesh; a circa tenth-century image from Singhbhumi, Bihar, with both feet trampling a demon and a goddess standing between his legs (perhaps illustrating the Mahiravan story); a seated twelfth-century image from Goa, with one arm raised to deliver a slap.53 The real iconographic boom, however, begins from about the fifteenth century and hence roughly coincides with the elabora- tion of Hanuman's deeds in regional texts like the Krittibasa and Tulsidas Ramayans, and it includes the first five-faced (pafic-mukhi) images-a fierce (ugra) manifestation that is rooted in Shaiva iconography (both\\n\",\n",
              " 'Microbursts are caused by downdrafts within a thunderstorm.\\n',\n",
              " 'The experimental factor that is manipulated; the variable whose effect is being studied\\n',\n",
              " '(1947) A VII 10 min.; also color.\\n',\n",
              " 'Im kinda on a budget here and the Remora is\\xa0\\xa0 rated for 75Gal, I would think that would be sufficient.\\n',\n",
              " 'but you need to fight it.\\n',\n",
              " 'Chivers, D. J. 1971a.\\n',\n",
              " 'Some fibre is made of silica.\\n',\n",
              " 'CASE STUDY: THE CERRADO\\n',\n",
              " \"The most recent antifreeze discovery was supported by a grant from NSF's Division of Polar Programs.\\n\",\n",
              " '21:15-16; Heb.\\n',\n",
              " 'The genetic shuffling that accompanies sex means that even though an individual has two copies of every gene, they are mostly the same.\\n',\n",
              " 'The mantis habitually preys on butterflies, and so do lizards.\\n',\n",
              " 'Or would I fight for my freedom, build something of my own, and live life by my own rules?\\n',\n",
              " 'Lapse rate The rate at which an atmospheric variable (usually temperature) decreases with height.\\n',\n",
              " '[\"Ralph, look up the scientific concept of randomness, and you should (again won\\'t hold my breath) see that your statement \"Aren\\'t luck, chance, randomness (all of which deny cause) simply something we appeal to when we don\\'t understand what\\'s going on.\\n',\n",
              " 'Thermal or Heat Energy Energy associated with the heat of an object.\\n',\n",
              " 'differences between innate behavior and learning\\n',\n",
              " 'Daisy explains why she had left her friends.\\n',\n",
              " \"* 2006 : ` The New Black ' .\\n\",\n",
              " \"To Slip off, to take off noiselessly or hastily: as, to dip of one's shoes or garments.\\n\",\n",
              " 'Some second factors associate with oral cancer.\\n',\n",
              " 'Systematic position: Class Insecta, order Orthoptera, family Acrididae, subfamily Acridinae, genus Locusta; In the concerned area (Caucasus and Central Asia), there are two sub-species Locusta migratoria migratoria (Linnaeus 1758) and L. m. rossica Uvarov & Zolotarevsky 1929.\\n',\n",
              " 'In most cases straps have replaced the laces.\\n',\n",
              " 'Developed over two years, with extensive stakeholder consultation, The Baseline Monitoring Report is a technical supporting document that:\\n',\n",
              " '10380-10382 PART 6.\\n',\n",
              " 'Dealing with silverfish\\n',\n",
              " 'Positions include training and lectures in hospitals and birthing centers, as well as training of community-based health providers.\\n',\n",
              " 'Legends aside, even if this were the case, who could blame them?\\n',\n",
              " \"utility\\tNoun\\t#{{countable}} A 'utility' is a basic computer program that handles things like copying disks and setting up printers.\\n\",\n",
              " 'I didn’t want to do anything.\\n',\n",
              " 'These lethal and inhumane ways of catching muskrats are not advisable.\\n',\n",
              " 'This might be true for the smaller mesa and spike dropseed as well.\\n',\n",
              " \"The frogs are doing fine, but I haven't seen the snail moving... show more I bought a snail a few days ago from the pet store to put in a little aquarium with my two african dwarf frogs.\\n\",\n",
              " 'The list below offers several options for how your plants can be watered while you are on vacation.\\n',\n",
              " 'That way anyone who wants to avoid comments that aren’t directly referencing the discussions in progress can simply skip mine.\\n',\n",
              " 'Nemec : Sitzb.\\n',\n",
              " 'Coat a 200-gram chicken breast fillet in Moroccan spices, fry in 2 teaspoons of canola oil\\n',\n",
              " 'It is a collection of ‘signs’ and symptom sets – so it can be thoughts, emotions, feelings, outward appearance, sensory reactions and yes, even visible/obvious symptoms – but can be part of many disease states, and is not necessarily a disease in and of itself.\\n',\n",
              " 'Black oak\\n',\n",
              " 'A very fair illustration of the manner in which the subject-object, or stimulus, theory besets even those who would reject its logical consequences, may be seen in the recent article entitled \"Erect Vision,\" (The Open Court, Oct. 25, 1894) and in the editorial remarks thereon.\\n',\n",
              " 'Our climate rooms\\xa0can be used as an aid to the archaeological depot meeting \\xa0the required European standard with climatic conditions for depot spaces (18 ° C and 30% humidity).\\n',\n",
              " 'Finally, the modern indiscriminate advocacy of State administration conceals the fallacy that State officials must necessarily prove more effective in their action than private enterprise .\\n',\n",
              " 'Although it is larger in overall size than other cottontails, it has smaller and rounder ears and coarser fur with a more yellow cast.\\n',\n",
              " 'Pearre, S., Jr., 2003.\\n',\n",
              " 'I agree that Sara on Arrow was more like Dinah Drake, but Sara on Legends is more like Dinah Laurel than Laurel on Arrow was.\\n',\n",
              " 'In sociology and gender studies , \"doing gender\" is the idea that in Western culture , gender , rather than being an innate quality of individuals, is a psychologically ingrained social construct that actively surfaces in everyday human interaction.\\n',\n",
              " 'Their coats are yellow-gold.\\n',\n",
              " 'In multi-cellular organisms, one of many types of secreted chemicals that are formed in specialized cells, travel in body fluids, and act on specific target cells in other parts of the body to change their functioning.\\n',\n",
              " 'Hummingbirds migrate alone, not in flocks, and not on the backs of geese !\\n',\n",
              " 'These victories placed Paraguay in first position of the CONMEBOL table in four matches, [25] [26] and Paraguay remained in first position of the CONMEBOL table for nine consecutive rounds (from round 4 to round 12).\\n',\n",
              " 'I walk around while talking on the phone.\\n',\n",
              " 'The ability for hagfish to recover from experimental conditions was also explored to investigate latent effects.\\n',\n",
              " 'J— has some notion of going out to the West some time during the summer, and the winter will, of course, take them back to Georgia to carry out their southern experiment and determine whether any good result is to be obtained there or not.\\n',\n",
              " 'Along with the Cape Cod Baseball League and the new Junior Hockey League team, the Cape Cod Islanders , many high school players are being recruited as well.\\n',\n",
              " 'After his second year in Leipzig, he composed at least eight further cantatas for inclusion in his chorale cantata cycle.\\n',\n",
              " '93-70 Flor.\\n',\n",
              " 'External perpendicular s. See Occipital FISSURE (2d def.)\\n',\n",
              " 'The USDA and other groups are working on some of those solutions, including efforts to breed honeybees that are naturally resistant to varroa.\\n',\n",
              " 'Crocodiles are large reptiles found in tropical regions of Africa, Asia, the Americas and Australia.\\n',\n",
              " 'Watson, J. B. Behaviorism.\\n',\n",
              " 'Some plants evolve woody stems .\\n',\n",
              " 'They include the distribution and magni- tude of the catch of the more important species, fishing grounds, polluted areas along shore, loca- tion of weirs, and the location of canneries.\\n',\n",
              " 'Nevertheless, patience being the genetic virtue of the gardener, my eagerness for the resonant hues of the fall color spectrum grows.\\n',\n",
              " 'Who is at risk for cataracts?\\n',\n",
              " 'Most heat damages hair shafts.\\n',\n",
              " \"Dagoba Chocolate is the Hershey's-owned fair trade , high-quality organic chocolate purchased from the 2001 founder, Frederick Schilling in 2006.\\n\",\n",
              " 'U.S., speak in debate); set of rooms &c. on same level in house (ground/.\\n',\n",
              " 'In the circumstances, the mere fact that these sheets are in your possession to-night might make you the object of the attention of a hangman and his assistants.\\n',\n",
              " 'say an fish growing arms and legs and walking out of the water.\\n',\n",
              " 'It is true that we see more colors than some animals.\\n',\n",
              " \"f. Chin, pun-chi own loom] po'ngo, n. (Early name for) a large anthro- poid African ape; (iniprop.)\\n\",\n",
              " 'A chestnut rabicano Arabian horse\\n',\n",
              " '8Department of Animal Genetics, Breeding and Reproduction, College of Animal Science and Technology, Nanjing Agricultural University, Nanjing 210095, China.\\n',\n",
              " 'Survival analyses were performed using the mark–recapture histories of 637 males and 1597 females that were recruited to the breeding population in 1991–2000.\\n',\n",
              " 'By Hilary Meyer , January 19, 2012 - 12:19pm\\n',\n",
              " 'Vitamin D (antirachitic vitamin) occurs in fish oils as cod- and halibut-liver oils.\\n',\n",
              " 'Adrenal cortical tumours ~\\xa0Adenomas and carcinomas the adrenal glands are small glands that sit above each of the kidneys.\\n',\n",
              " \"Once again, as far as the trigger munching on his tankmates- it's really hard to say...Fish do display individual personalities, much like humans.\\n\",\n",
              " 'A new cranial point.\\n',\n",
              " '946202 (2016-08-24 18:34:18)\\n',\n",
              " \"of the Augsburg Confession (Lutheran), [f. F confessioniste (-ist)] confe'ssor, n.\\n\",\n",
              " 'Origins of Sentiments and Institutions, translated from the French, three volumes (New York, Macmillan, 1927).\\n',\n",
              " 'Thanks for the quick response!\\n',\n",
              " 'You also may download this printer-friendly Olweus Bullying Prevention Program PDF .\\n',\n",
              " 'People have been psychologically traumatised due to any of the following: _ _ * The destruction of buildin…gs, resulting in any number of people suddenly finding themselves homeless.\\n',\n",
              " 'A FAIR CHANCE.\\n',\n",
              " 'These tend to be a result of cooling and contraction in hypabyssal intrusions or lava flows.\\n',\n",
              " 'Provide adequate space\\n',\n",
              " '[Its concern is] to occupy itself with God, to apprehend everything in him, to lead everything back to him, as well as to derive everything particular from God and to justify everything only insofar as it stems from God, is sustained through its relationship with him, lives by his radiance and has [within itself] the mind of God.\\n',\n",
              " 'T.I.P.S – Think Instinct Prospects & Strategy\\n',\n",
              " 'No one will be swayed and we will not have improved their understanding of us or their respect for atheists generally.\\n',\n",
              " 'These clever animals have an interesting way of hunting.\\n',\n",
              " 'A digitalis-like toxin in the monarch butterfly,Danaus plexippus L.J. Physiol.\\n',\n",
              " 'There is a company that you can get keyword targeted traffic from and they let you try their service for free for 7 days.\\n',\n",
              " 'It is 104 miles -LRB- 167 &amp; nbsp ; km -RRB- long by at its widest 40 miles -LRB- 64 &amp; nbsp ; km -RRB- wide .\\n',\n",
              " 'Constitutional and Choice of Law Arguments for Recognition of Same-Sex Marriages.\"\\n',\n",
              " 'black face of his, forcibly reminds one of a negro boy. \"\\n',\n",
              " 'More than a billion people, in the world, do not have access, to safe drinking water.\\n',\n",
              " \"semisection (sem-i-sek'shon), m. Sameasfeeww- ,.\\n\",\n",
              " '---, 1973, The heterostracan fishes: Biological Reviews, v. 48, p. 279-332.\\n',\n",
              " 'The banteng is a member of the subgenus Bibos (Hodgson, 1837) with the gaur and the kouprey, and it was at one time elevated to a genus.\\n',\n",
              " 'Very tall or short.\\n',\n",
              " 'McQuarrie DA & Rock PA 1987, General chemistry, 3rd ed., WH Freeman, New York\\n',\n",
              " 'Litter size and nursery sites of the hoary bat near Delta.\\n',\n",
              " 'Bolliger M. 1996.\\n',\n",
              " 'CHS is a disease causing impaired bacterial killing due to failure of phagolysosome formation.\\n',\n",
              " 'There are times when the Internet seems like the dancing light at the bottom of a swimming pool, moving, ephemeral, mesmerizing, and without scale.\\n',\n",
              " 'In dinoflagellates they often form armor\\n',\n",
              " \"When Cyril is murdered, Hamish's woes multiply.\\n\",\n",
              " 'And four cats!\\n',\n",
              " 'Proposed by Charles Lyell; stated that processes today have been happening the same way for years; assumption that the same natural laws and processes that have always operated in the universe in the past are still occurring today\\n',\n",
              " '[217] After that, the leading part of the war became the Chinese army.\\n',\n",
              " 'Minimum survival Index Index Year Grid per 2 weeks total population live-traps 1976 D 0.44 1.06 0.38 A 0.58 1.16 0.46 B 0.70 2.\\n',\n",
              " 'To be sure, at its most potent, the MS13 leadership can control the actions of these cliques from afar.\\n',\n",
              " 'To distinguish them from each other, he gave them particular names; and, to unite them under one point of view, he invented general terms.\\n',\n",
              " 'The pioneers tried to purchase land by a river or stream, because water was so important to their daily life.\\n',\n",
              " \"There are plenty of ways for vegetarians to build the muscle they are after despite the fact that they aren't consuming any meat products.\\n\",\n",
              " 'Distribution of each SET-domain group among fungi\\n',\n",
              " 'An important section of the Congress was dedicated to the memory of Mircea Eliade, whose legacy in the field of history of religions was scrutinized by various scholars, some of whom were his direct students at the University of Chicago.\\n',\n",
              " 'Plains zebra in African savannah habitat\\n',\n",
              " 'For one lamb, 10 to 15 drops of turpentine spirits are mixed with an ounce of linseed oil and a pinch of ground ginger; for an adult sheep, 80 drops in two ounces of linseed oil.\\n',\n",
              " 'How Sea Sponges Populate\\n',\n",
              " 'At LCW, our team intentionally created an environment that felt substantially different—that is, better—than the general environment for getting involved in Lawrence.\\n',\n",
              " 'Bill Gates talked about Smart Personal Objects Technology (SPOT) back at CES in 2003 and this year at CES ( see our coverage ) there were 5 MSN Direct SPOT watches announced for immediate availability.\\n',\n",
              " 'General Snoozie[ edit ]\\n',\n",
              " 'I believe it is the first time that I heard silence several times.\\n',\n",
              " 'How to Fix Your Soil with Organic Matter\\n',\n",
              " 'You have to stop it.\\n',\n",
              " \"language text -RCB- language text by using the code `` -RCB- -RCB- -RCB- '' . -RCB-\\n\",\n",
              " 'Part of a large beetle collection\\n',\n",
              " 'LS-F11845 is a 96-well enzyme-linked immunosorbent assay (ELISA) for the Quantitative detection of Human ITGA4 / VLA-4 / CD49d in samples of Cell Culture Supernatants, Plasma, Serum and Tissue Homogenates.\\n',\n",
              " 'Giant Fun for All Ages\\n',\n",
              " 'different calls for bird/leopard/snake!\\n',\n",
              " 'The deltas of the Mekong , Amazon , Congo , and Ganges and the north coast of Australia and of Sumatra have notable and extensive mangrove swamps.\\n',\n",
              " 'McCarthy chats with Roy Cohn (right) at the Army-McCarthy hearings .\\n',\n",
              " 'Severe low temperatures vary with latitude, elevation, and distance from the ocean.\\n',\n",
              " 'Smartest Machine on Earth: Can a Computer Win on Jeopardy?\\n',\n",
              " 'Major Home Appliances (Excludes Commercial Appliances)\\n',\n",
              " 'Expand Most Recent Updates\\n',\n",
              " 'Another article written in 1960 for American Heritage by Ernest Wittenberg provided new diagrams describing how the director sat inside the cabinet.\\n',\n",
              " 'Liability to this class of pilfering must be excluded by tough, impenetrable sheathing structures around the basal, honey -containing regions of the flower- Such structures are well shown on the Teasel-heads and capitula of many Pinks, in which the nectariferous portions of the flowers are protected by imbricating scales.\\n',\n",
              " 'One of the earlier reports of the Royal Commission on Horse-Breeding stated that in this country in any given year no less than forty per cent, of the mares chosen for breeding fail to produce foals, but to what extent this result is due to sterility or how far it may be ascribed to abortion does not appear to have been ascertained.\\n',\n",
              " 'How does a proposal for marriage occur?\\n',\n",
              " 'To see deep inside a sponge’s interior, a 3D image was obtained by stacking optical images acquired during sequential laser-ablation of the 15-μm slices of the sponge ( Supplementary Movie 1 and Supplementary Fig. 5 ).\\n',\n",
              " 'Aalbers P, 2008.\\n',\n",
              " 'Murmur isa sound.\\n',\n",
              " 'The efficiency attained in this experiment, only 2 % to 3 %, is very low compared to that of pumps used in practice, which can reach 20 % to 90 %.\\n',\n",
              " 'There are 54,977 people .\\n',\n",
              " 'One of the easiest methods of constructing a tree shelter consists of locating a tree with low hanging branches.\\n',\n",
              " 'It is so difficult for anyone to predict what will happen next.\\n',\n",
              " 'As Aoba forces himself to get up the next morning, he walks into the upstairs living room and notices Mink is angrily watching the TV screen.\\n',\n",
              " 'Hypothesis forming typically consists of two phases, description and interpretation; descriptions can contain both qualitative and quantitative information.\\n',\n",
              " '* Bob Bryar - drums -LRB- 2004 -2010 -RRB- .\\n',\n",
              " \"If you can't trust him to handle a gun, can you really trust him to handle classified information?\\n\",\n",
              " '9.5-52) 5866.\\n',\n",
              " 'Country Studies -LSB- http://countrystudies.us/belarus/39.htm Belarus &amp; nbsp ; -- Prelude to Independence -RSB- .\\n',\n",
              " 'Perceptual- mnemonic functions of the perirhinal cortex.\\n',\n",
              " 'Electricity from batteries keeps our cars running and makes our flashlights shine in the dark.\\n',\n",
              " 'Part of the challenge of making a practical capacitive sensor is to design a set of printed circuit traces which direct fringing fields into an active sensing area accessible to a user.\\n',\n",
              " 'Animal Behaviour\\xa084: 1295-1305.\\n',\n",
              " 'However, eggs may be heavily parasitized.\\n',\n",
              " 'A New Siphonostomatoid Copepod Associated with the Ahermatypic coral Tubastraea aurea from Taiwan.\\n',\n",
              " 'Bullmastiffs become intensely attached to their families and do best when they can live inside with them.\\n',\n",
              " 'Hemmingsen A. 1960 .\\n',\n",
              " '2003 NASCAR Winston Cup Recap\\n',\n",
              " '* 1947 - Pascal Lamy , French politician .\\n',\n",
              " 'Never use Calci-sand as your substrate!\\n',\n",
              " '\"a coming to life again; rising from the dead.\"\\n',\n",
              " 'p63 is a p53 analogue protein expressed in the nuclei of basal cells such as the myoepithelial cells present in mammary tissue, skin, oral cavity, prostatic and urothelial epithelia [ 54 ].\\n',\n",
              " \"sandpaper (sand'pa'''p6r), n. Stout paper coat- ed with hot glue and then sprinkled with sharp sand of different degrees of fineness, it is used for rubbing and finishing, and is intermediate in its action between emery-paper and glass-paper.\\n\",\n",
              " 'c. Gestational age begins at fertilization\\n',\n",
              " 'Receptor cells (rods and cons)\\n',\n",
              " 'The most primitive fish scales are placoid, appearing first in the ancestral sharks of the Upper Devonian times, and found today among selachians generally.\\n',\n",
              " \"There's really not much to say here other than I became totally immersed in this book while I was reading it.\\n\",\n",
              " 'A zoologist is a scientist who studies animals, whether slugs or spiders, rattlesnakes or ravens.\\n',\n",
              " 'Size M (the size label has been cut out from the neck, but the size is marked on the composition label).\\n',\n",
              " 'The skills are : * The Ice Breaker .\\n',\n",
              " \"As in much of Mac- Donald's work, his hero is guided by a mentoring enchantress, indicating a somewhat different mentality from that of Carroll.\\n\",\n",
              " 'D) proportion of the prey population that is captured and consumed decreases.\\n',\n",
              " 'Les autres produits doivent porter une étiquette incluant le logo et les mots «\\xa0VICUÑA-BOLIVIA-ARTESANÍA\\xa0».\\n',\n",
              " \"They're alerted to the presence of prey by vibrations rippling across their sensitive hairs.\\n\",\n",
              " 'Small flocks of bluebirds may be seen foraging along the edges of wooded swamps.\\n',\n",
              " 'He was given a golden apple and asked to judge a beauty contest between three Goddesses : Juno , the Goddess of the Family ; Minerva , the Goddess of War and Venus , the Goddess of Love .\\n',\n",
              " 'Anthers were collected from the first flower at anthesis and were placed into a 1.5-mL centrifuge tube for viability analysis.\\n',\n",
              " 'If you’re not going to use it for food or medicine, feel free to compost your burdock root, but do not turn/till it back into the ground before it decomposes.\\n',\n",
              " 'I have searched the web but cannot find it.\\n',\n",
              " '“It’s something else,” said Valya.\\n',\n",
              " 'Ferritin levels could not be measured owing to lack of an anti-marmoset ferritin antibody.\\n',\n",
              " 'It is a good story and very well written.\\n',\n",
              " 'There are also many different animals that live in the sea water near polar regions.\\n',\n",
              " 'Check out their coverage: http://www.liveleak.com/view?i=a0f_1180495504&p=1 Rdogg 03:56, 30 May 2007 (UTC)\\n',\n",
              " 'If there are more than 13 babies, only those babies able to grasp a teat will survive.\\n',\n",
              " 'The materials used to get the information about the company are from the internet, newspaper and the bottle itself.\\n',\n",
              " 'U.K (n.s.), 4 (1): 73-74.\\n',\n",
              " 'protects animals and plants from predators or hides them from prey because they mimic or look like other things\\n',\n",
              " 'Parasitic fig wasps also inhabit synconiums.\\n',\n",
              " 'Answer: age\\n',\n",
              " 'The early genetic material might have formed an\\n',\n",
              " \"The funeral that followed featured many of Superman's fellow heroes and friends, including most of Justice League America, and a mausoleum was built in Metropolis in honor of the Man of Steel.\\n\",\n",
              " 'Tralau H. 1964.\\n',\n",
              " '• Secondary or mid-age process where a steady rate of aging process is maintained .\\n',\n",
              " 'Farnsworth, E.J. and A.M. Ellison.\\n',\n",
              " 'Trying to determine virginity by _ inspection is as difficult as it is unimportant and pointless.\\n',\n",
              " 'Many female dogs may show nesting behavior and she may wish to rest more often than normal and avoid normal exercise which lends to the theory that canines do indeed have some abdominal pain during this time.\\n',\n",
              " ...]"
            ]
          },
          "metadata": {},
          "execution_count": 33
        }
      ]
    },
    {
      "cell_type": "code",
      "source": [
        "df_easy_train.head()"
      ],
      "metadata": {
        "colab": {
          "base_uri": "https://localhost:8080/",
          "height": 206
        },
        "id": "jj7gOI82TgKp",
        "outputId": "0ea4694c-b232-47ee-cd0e-119af6814acb"
      },
      "execution_count": null,
      "outputs": [
        {
          "output_type": "execute_result",
          "data": {
            "text/plain": [
              "  AnswerKey                                           question\n",
              "0         B  Which factor will most likely cause a person t...\n",
              "1         B  Lichens are symbiotic organisms made of green ...\n",
              "2         D  When a switch is used in an electrical circuit...\n",
              "3         A  Which of the following is an example of an ass...\n",
              "4         3  Rocks are classified as igneous, metamorphic, ..."
            ],
            "text/html": [
              "\n",
              "  <div id=\"df-fb7ff3a0-4221-4d3c-a4fc-c47e7f2e0a54\">\n",
              "    <div class=\"colab-df-container\">\n",
              "      <div>\n",
              "<style scoped>\n",
              "    .dataframe tbody tr th:only-of-type {\n",
              "        vertical-align: middle;\n",
              "    }\n",
              "\n",
              "    .dataframe tbody tr th {\n",
              "        vertical-align: top;\n",
              "    }\n",
              "\n",
              "    .dataframe thead th {\n",
              "        text-align: right;\n",
              "    }\n",
              "</style>\n",
              "<table border=\"1\" class=\"dataframe\">\n",
              "  <thead>\n",
              "    <tr style=\"text-align: right;\">\n",
              "      <th></th>\n",
              "      <th>AnswerKey</th>\n",
              "      <th>question</th>\n",
              "    </tr>\n",
              "  </thead>\n",
              "  <tbody>\n",
              "    <tr>\n",
              "      <th>0</th>\n",
              "      <td>B</td>\n",
              "      <td>Which factor will most likely cause a person t...</td>\n",
              "    </tr>\n",
              "    <tr>\n",
              "      <th>1</th>\n",
              "      <td>B</td>\n",
              "      <td>Lichens are symbiotic organisms made of green ...</td>\n",
              "    </tr>\n",
              "    <tr>\n",
              "      <th>2</th>\n",
              "      <td>D</td>\n",
              "      <td>When a switch is used in an electrical circuit...</td>\n",
              "    </tr>\n",
              "    <tr>\n",
              "      <th>3</th>\n",
              "      <td>A</td>\n",
              "      <td>Which of the following is an example of an ass...</td>\n",
              "    </tr>\n",
              "    <tr>\n",
              "      <th>4</th>\n",
              "      <td>3</td>\n",
              "      <td>Rocks are classified as igneous, metamorphic, ...</td>\n",
              "    </tr>\n",
              "  </tbody>\n",
              "</table>\n",
              "</div>\n",
              "      <button class=\"colab-df-convert\" onclick=\"convertToInteractive('df-fb7ff3a0-4221-4d3c-a4fc-c47e7f2e0a54')\"\n",
              "              title=\"Convert this dataframe to an interactive table.\"\n",
              "              style=\"display:none;\">\n",
              "        \n",
              "  <svg xmlns=\"http://www.w3.org/2000/svg\" height=\"24px\"viewBox=\"0 0 24 24\"\n",
              "       width=\"24px\">\n",
              "    <path d=\"M0 0h24v24H0V0z\" fill=\"none\"/>\n",
              "    <path d=\"M18.56 5.44l.94 2.06.94-2.06 2.06-.94-2.06-.94-.94-2.06-.94 2.06-2.06.94zm-11 1L8.5 8.5l.94-2.06 2.06-.94-2.06-.94L8.5 2.5l-.94 2.06-2.06.94zm10 10l.94 2.06.94-2.06 2.06-.94-2.06-.94-.94-2.06-.94 2.06-2.06.94z\"/><path d=\"M17.41 7.96l-1.37-1.37c-.4-.4-.92-.59-1.43-.59-.52 0-1.04.2-1.43.59L10.3 9.45l-7.72 7.72c-.78.78-.78 2.05 0 2.83L4 21.41c.39.39.9.59 1.41.59.51 0 1.02-.2 1.41-.59l7.78-7.78 2.81-2.81c.8-.78.8-2.07 0-2.86zM5.41 20L4 18.59l7.72-7.72 1.47 1.35L5.41 20z\"/>\n",
              "  </svg>\n",
              "      </button>\n",
              "      \n",
              "  <style>\n",
              "    .colab-df-container {\n",
              "      display:flex;\n",
              "      flex-wrap:wrap;\n",
              "      gap: 12px;\n",
              "    }\n",
              "\n",
              "    .colab-df-convert {\n",
              "      background-color: #E8F0FE;\n",
              "      border: none;\n",
              "      border-radius: 50%;\n",
              "      cursor: pointer;\n",
              "      display: none;\n",
              "      fill: #1967D2;\n",
              "      height: 32px;\n",
              "      padding: 0 0 0 0;\n",
              "      width: 32px;\n",
              "    }\n",
              "\n",
              "    .colab-df-convert:hover {\n",
              "      background-color: #E2EBFA;\n",
              "      box-shadow: 0px 1px 2px rgba(60, 64, 67, 0.3), 0px 1px 3px 1px rgba(60, 64, 67, 0.15);\n",
              "      fill: #174EA6;\n",
              "    }\n",
              "\n",
              "    [theme=dark] .colab-df-convert {\n",
              "      background-color: #3B4455;\n",
              "      fill: #D2E3FC;\n",
              "    }\n",
              "\n",
              "    [theme=dark] .colab-df-convert:hover {\n",
              "      background-color: #434B5C;\n",
              "      box-shadow: 0px 1px 3px 1px rgba(0, 0, 0, 0.15);\n",
              "      filter: drop-shadow(0px 1px 2px rgba(0, 0, 0, 0.3));\n",
              "      fill: #FFFFFF;\n",
              "    }\n",
              "  </style>\n",
              "\n",
              "      <script>\n",
              "        const buttonEl =\n",
              "          document.querySelector('#df-fb7ff3a0-4221-4d3c-a4fc-c47e7f2e0a54 button.colab-df-convert');\n",
              "        buttonEl.style.display =\n",
              "          google.colab.kernel.accessAllowed ? 'block' : 'none';\n",
              "\n",
              "        async function convertToInteractive(key) {\n",
              "          const element = document.querySelector('#df-fb7ff3a0-4221-4d3c-a4fc-c47e7f2e0a54');\n",
              "          const dataTable =\n",
              "            await google.colab.kernel.invokeFunction('convertToInteractive',\n",
              "                                                     [key], {});\n",
              "          if (!dataTable) return;\n",
              "\n",
              "          const docLinkHtml = 'Like what you see? Visit the ' +\n",
              "            '<a target=\"_blank\" href=https://colab.research.google.com/notebooks/data_table.ipynb>data table notebook</a>'\n",
              "            + ' to learn more about interactive tables.';\n",
              "          element.innerHTML = '';\n",
              "          dataTable['output_type'] = 'display_data';\n",
              "          await google.colab.output.renderOutput(dataTable, element);\n",
              "          const docLink = document.createElement('div');\n",
              "          docLink.innerHTML = docLinkHtml;\n",
              "          element.appendChild(docLink);\n",
              "        }\n",
              "      </script>\n",
              "    </div>\n",
              "  </div>\n",
              "  "
            ]
          },
          "metadata": {},
          "execution_count": 34
        }
      ]
    },
    {
      "cell_type": "code",
      "source": [
        "def extract_question(question):\n",
        "    '''\n",
        "    This function will take a value in question column then, will split the string \n",
        "    at (A) or (1). After splitting we will take only first part which is the question.\n",
        "    '''\n",
        "    if '(A)' in question:\n",
        "        x = question.split('(A)')[0]\n",
        "    elif '(1)' in question:\n",
        "        x = question.split('(1)')[0]\n",
        "\n",
        "    return x"
      ],
      "metadata": {
        "id": "Bp5I4bo8Tknx"
      },
      "execution_count": null,
      "outputs": []
    },
    {
      "cell_type": "code",
      "source": [
        "df_easy_train['only_question'] = df_easy_train['question'].apply(extract_question)"
      ],
      "metadata": {
        "id": "oBfV8Ur4ToOY"
      },
      "execution_count": null,
      "outputs": []
    },
    {
      "cell_type": "code",
      "source": [
        "df_easy_dev['only_question'] = df_easy_dev['question'].apply(extract_question)\n",
        "df_easy_test['only_question'] = df_easy_test['question'].apply(extract_question)\n",
        "df_challenge_train['only_question'] = df_challenge_train['question'].apply(extract_question)\n",
        "df_challenge_dev['only_question'] = df_challenge_dev['question'].apply(extract_question)\n",
        "df_challenge_test['only_question'] = df_challenge_test['question'].apply(extract_question)"
      ],
      "metadata": {
        "id": "oey7TGJyTqv2"
      },
      "execution_count": null,
      "outputs": []
    },
    {
      "cell_type": "code",
      "source": [
        "print('Some examples of questions of easy set are as follows:')\n",
        "print('------------------------------------------------------\\n')\n",
        "a = np.random.randint(0,high=1000,size=10)\n",
        "\n",
        "for i in a:\n",
        "    b = df_easy_train['only_question'].iloc[i]\n",
        "    print(b + '\\n')\n"
      ],
      "metadata": {
        "colab": {
          "base_uri": "https://localhost:8080/"
        },
        "id": "UFA0XtBHTv2W",
        "outputId": "cb32a555-3d46-4635-e80b-9bd7ffe45729"
      },
      "execution_count": null,
      "outputs": [
        {
          "output_type": "stream",
          "name": "stdout",
          "text": [
            "Some examples of questions of easy set are as follows:\n",
            "------------------------------------------------------\n",
            "\n",
            "The motion of Earth is responsible for several celestial events. Which of the following events is caused by Earth revolving around the sun? \n",
            "\n",
            "Based on the evidence available at the time, early models of the solar system stated that all objects in space orbited Earth. In the 16th century, an astronomer reevaluated the evidence and proposed a model of the solar system that is still in use. What part of this model corrected the mistake in previous solar system models? \n",
            "\n",
            "Which characteristic is most beneficial for an animal living on a snowy mountain? \n",
            "\n",
            "What types of cells are found only in organisms that reproduce sexually? \n",
            "\n",
            "Eye color in human beings is an \n",
            "\n",
            "The spectrum of visible light can be seen in a rainbow because white light is \n",
            "\n",
            "Sharpening a pencil and tearing paper are examples of physical changes. Which statement describes why these are physical changes? \n",
            "\n",
            "Which biological process determines the probability that particular alleles will be found in any given gamete? \n",
            "\n",
            "A student crumples up a sheet of paper. Which property of the paper has changed? \n",
            "\n",
            "Animals get energy for growth and repair from \n",
            "\n"
          ]
        }
      ]
    },
    {
      "cell_type": "code",
      "source": [
        "df_easy_train['quesiton_length'] = df_easy_train['only_question'].apply(lambda x: len(x))"
      ],
      "metadata": {
        "id": "HfGmky1jT1DX"
      },
      "execution_count": null,
      "outputs": []
    },
    {
      "cell_type": "code",
      "source": [
        "df_easy_dev['quesiton_length'] = df_easy_dev['only_question'].apply(lambda x: len(x))\n",
        "df_easy_test['quesiton_length'] = df_easy_test['only_question'].apply(lambda x: len(x))\n",
        "df_challenge_train['quesiton_length'] = df_challenge_train['only_question'].apply(lambda x: len(x))\n",
        "df_challenge_dev['quesiton_length'] = df_challenge_dev['only_question'].apply(lambda x: len(x))\n",
        "df_challenge_test['quesiton_length'] = df_challenge_test['only_question'].apply(lambda x: len(x))"
      ],
      "metadata": {
        "id": "fWQhkTRKT4PQ"
      },
      "execution_count": null,
      "outputs": []
    },
    {
      "cell_type": "code",
      "source": [
        "fig, (axis1) = plt.subplots(1,1,figsize=(15,4))\n",
        "sns.violinplot(x='quesiton_length', data=df_easy_train, ax=axis1, orient='v')\n",
        "plt.title('Question lengths in Easy train part')"
      ],
      "metadata": {
        "colab": {
          "base_uri": "https://localhost:8080/",
          "height": 314
        },
        "id": "Oh1htfPPT7b_",
        "outputId": "eb7206c7-0b8a-4b29-ddbd-0083c4e32a86"
      },
      "execution_count": null,
      "outputs": [
        {
          "output_type": "execute_result",
          "data": {
            "text/plain": [
              "Text(0.5, 1.0, 'Question lengths in Easy train part')"
            ]
          },
          "metadata": {},
          "execution_count": 41
        },
        {
          "output_type": "display_data",
          "data": {
            "text/plain": [
              "<Figure size 1080x288 with 1 Axes>"
            ],
            "image/png": "[encoded data removed]"
          },
          "metadata": {
            "needs_background": "light"
          }
        }
      ]
    },
    {
      "cell_type": "code",
      "source": [
        "a = np.quantile(df_easy_train['quesiton_length'],0.99)\n",
        "print(f'99 percentile values of question length in easy train part is less than {a}.')\n",
        "\n",
        "count = 0 \n",
        "for i in range(len(df_easy_train)):\n",
        "    if df_easy_train['quesiton_length'].iloc[i] >= 339:\n",
        "        count += 1\n",
        "\n",
        "print(f'Number of questions in easy train part with length greater than 99 percentile are {count}.')"
      ],
      "metadata": {
        "colab": {
          "base_uri": "https://localhost:8080/"
        },
        "id": "zxIzQ1_mT-zE",
        "outputId": "1eb668c8-32dc-4b00-d166-9f63a1936a7e"
      },
      "execution_count": null,
      "outputs": [
        {
          "output_type": "stream",
          "name": "stdout",
          "text": [
            "99 percentile values of question length in easy train part is less than 338.5.\n",
            "Number of questions in easy train part with length greater than 99 percentile are 23.\n"
          ]
        }
      ]
    },
    {
      "cell_type": "code",
      "source": [
        "fig, (axis1) = plt.subplots(1,1,figsize=(15,4))\n",
        "sns.violinplot(x='quesiton_length', data=df_challenge_train, ax=axis1, orient='v')\n",
        "plt.title('Question lengths in Challenge train part')"
      ],
      "metadata": {
        "colab": {
          "base_uri": "https://localhost:8080/",
          "height": 314
        },
        "id": "SfgsnWNJUCHK",
        "outputId": "051efc48-3c48-4ad1-a716-bfd05cb35239"
      },
      "execution_count": null,
      "outputs": [
        {
          "output_type": "execute_result",
          "data": {
            "text/plain": [
              "Text(0.5, 1.0, 'Question lengths in Challenge train part')"
            ]
          },
          "metadata": {},
          "execution_count": 43
        },
        {
          "output_type": "display_data",
          "data": {
            "text/plain": [
              "<Figure size 1080x288 with 1 Axes>"
            ],
            "image/png": "[encoded data removed]"
          },
          "metadata": {
            "needs_background": "light"
          }
        }
      ]
    },
    {
      "cell_type": "code",
      "source": [
        "a = np.quantile(df_challenge_train['quesiton_length'],0.99)\n",
        "print(f'99 percentile values of question length in challenge train part is less than {a}.')\n",
        "\n",
        "count = 0 \n",
        "for i in range(len(df_challenge_train)):\n",
        "    if df_challenge_train['quesiton_length'].iloc[i] >= 415:\n",
        "        count += 1\n",
        "\n",
        "print(f'Number of questions in challenge train part with length greater than 99 percentile are {count}.')"
      ],
      "metadata": {
        "colab": {
          "base_uri": "https://localhost:8080/"
        },
        "id": "QFwY_6RlUGvP",
        "outputId": "0be80f5a-6f12-4dd4-ad9b-7a884b67d254"
      },
      "execution_count": null,
      "outputs": [
        {
          "output_type": "stream",
          "name": "stdout",
          "text": [
            "99 percentile values of question length in challenge train part is less than 414.83999999999924.\n",
            "Number of questions in challenge train part with length greater than 99 percentile are 12.\n"
          ]
        }
      ]
    },
    {
      "cell_type": "code",
      "source": [
        "df_easy_train.to_csv('/content/drive/My Drive/ARC/df_easy_train',index=False)\n",
        "df_easy_dev.to_csv('/content/drive/My Drive/ARC/df_easy_dev',index=False)\n",
        "df_easy_test.to_csv('/content/drive/My Drive/ARC/df_easy_test',index=False)\n"
      ],
      "metadata": {
        "id": "IU_pyKC2UITB"
      },
      "execution_count": null,
      "outputs": []
    },
    {
      "cell_type": "code",
      "source": [
        "df_challenge_train.to_csv('/content/drive/My Drive/ARC/df_challenge_train',index=False)\n",
        "df_challenge_dev.to_csv('/content/drive/My Drive/ARC/df_challenge_dev',index=False)\n",
        "df_challenge_test.to_csv('/content/drive/My Drive/ARC/df_challenge_test',index=False)"
      ],
      "metadata": {
        "id": "eUkX7r79UUrL"
      },
      "execution_count": null,
      "outputs": []
    }
  ]
}